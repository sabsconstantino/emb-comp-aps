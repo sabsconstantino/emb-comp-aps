{
 "cells": [
  {
   "cell_type": "code",
   "execution_count": 1,
   "id": "historic-harvey",
   "metadata": {},
   "outputs": [],
   "source": [
    "from os.path import join as j\n",
    "from matplotlib import pyplot as plt\n",
    "import pandas as pd\n",
    "from sklearn.metrics import roc_curve, auc\n",
    "import networkx as nx\n",
    "import numpy as np\n",
    "import random"
   ]
  },
  {
   "cell_type": "code",
   "execution_count": 2,
   "id": "genuine-hughes",
   "metadata": {},
   "outputs": [],
   "source": [
    "with open(\"../data_dirs.txt\", \"r\") as f: # your dataset folder should  be in a text file here\n",
    "    DATA_DIRS = f.readlines()\n",
    "    DATA_DIRS = [p.strip() for p in DATA_DIRS]"
   ]
  },
  {
   "cell_type": "code",
   "execution_count": 3,
   "id": "statutory-citation",
   "metadata": {},
   "outputs": [],
   "source": [
    "POS_PATH = j(DATA_DIRS[0], \"derived\", \"journal_citations\", \"link_prediction\", \"aps_all_2010_link_pred_50-pct_removed.csv\")\n",
    "NEG_PATH = j(DATA_DIRS[0], \"derived\", \"journal_citations\", \"link_prediction\", \"aps_all_2010_link_pred_50-pct_negsamp.csv\")"
   ]
  },
  {
   "cell_type": "code",
   "execution_count": 4,
   "id": "improved-institute",
   "metadata": {},
   "outputs": [],
   "source": [
    "pos = pd.read_csv(POS_PATH, dtype=\"str\")\n",
    "neg = pd.read_csv(NEG_PATH, dtype=\"str\")"
   ]
  },
  {
   "cell_type": "code",
   "execution_count": 5,
   "id": "minute-audit",
   "metadata": {},
   "outputs": [],
   "source": [
    "# labels\n",
    "pos[\"TRUE\"] = 1\n",
    "neg[\"TRUE\"] = 0"
   ]
  },
  {
   "cell_type": "markdown",
   "id": "spectacular-fleet",
   "metadata": {},
   "source": [
    "# Load embeddings, calculate scores"
   ]
  },
  {
   "cell_type": "code",
   "execution_count": 6,
   "id": "forward-granny",
   "metadata": {},
   "outputs": [],
   "source": [
    "EMB_PROPERTY = [\"undirected\"]*3 + [\"title\"]*3# + [\"abstract\"]*3\n",
    "EMB_METHOD = [\"leigenmap\", \"node2vec\", \"residual2vec\"] + [\"doc2vec\", \"scibert\", \"sentencebert\"]#*2\n",
    "EMB = zip(EMB_PROPERTY, EMB_METHOD)"
   ]
  },
  {
   "cell_type": "code",
   "execution_count": 7,
   "id": "nuclear-feature",
   "metadata": {},
   "outputs": [],
   "source": [
    "fpr = {}\n",
    "tpr = {}\n",
    "roc_auc = {}"
   ]
  },
  {
   "cell_type": "code",
   "execution_count": 8,
   "id": "injured-exhibition",
   "metadata": {},
   "outputs": [],
   "source": [
    "# graph, title embeddings\n",
    "for e in EMB:\n",
    "    EMB_PATH = j(DATA_DIRS[0], \"embedding\", \"link-prediction\", \"aps_all_2010_{}_{}_50-pct_vector.gz\".format(e[0], e[1]))\n",
    "    embedding = pd.read_csv(EMB_PATH, index_col=\"DOI\")\n",
    "    emb_cols = [str(i) for i in range(embedding.shape[1])]\n",
    "    \n",
    "    test_data = pd.concat([pos.drop([\"CITING_YEAR\", \"CITED_YEAR\"], axis=1), neg])\n",
    "    distance_left = test_data[[\"CITING_DOI\"]].merge(embedding, left_on=\"CITING_DOI\", right_index=True, how=\"left\")\n",
    "    distance_right = test_data[[\"CITED_DOI\"]].merge(embedding, left_on=\"CITED_DOI\", right_index=True, how=\"left\")\n",
    "    \n",
    "    test_data[\"PRED\"] = (\n",
    "    np.einsum(\"ij,ij->i\", distance_left[emb_cols].values, distance_right[emb_cols].values)\n",
    "    / (\n",
    "        np.linalg.norm(distance_left[emb_cols].values, axis=1)\n",
    "        * np.linalg.norm(distance_right[emb_cols].values, axis=1)\n",
    "    )\n",
    "    )\n",
    "    test_data = test_data[~pd.isna(test_data.PRED)]\n",
    "    \n",
    "    e_fpr, e_tpr, _ = roc_curve(test_data[\"TRUE\"], test_data[\"PRED\"])\n",
    "    fpr[e] = e_fpr\n",
    "    tpr[e] = e_tpr\n",
    "    roc_auc[e] = auc(e_fpr, e_tpr)"
   ]
  },
  {
   "cell_type": "markdown",
   "id": "identified-acceptance",
   "metadata": {},
   "source": [
    "# Abstract embedding scores"
   ]
  },
  {
   "cell_type": "code",
   "execution_count": 9,
   "id": "mounted-disney",
   "metadata": {},
   "outputs": [],
   "source": [
    "NETWORK_PATH = j(DATA_DIRS[0], \"derived\", \"journal_citations\", \"link_prediction\", \"abstract_aps_all_2010_link_pred_{}-pct_neg-0.gz\".format(50))\n",
    "POS_PATH = j(DATA_DIRS[0], \"derived\", \"journal_citations\", \"link_prediction\", \"abstract_aps_all_2010_link_pred_{}-pct_neg-0_pos.csv\".format(50))\n",
    "APS_CIT_PATH = j(DATA_DIRS[0], \"derived\", \"journal_citations\", \"aps_all_2010_citations.csv\")"
   ]
  },
  {
   "cell_type": "code",
   "execution_count": 10,
   "id": "dietary-attempt",
   "metadata": {},
   "outputs": [],
   "source": [
    "pos = pd.read_csv(POS_PATH, dtype=\"str\")\n",
    "network = pd.read_csv(NETWORK_PATH, dtype=\"str\")\n",
    "aps_all = pd.read_csv(APS_CIT_PATH, dtype=\"str\")"
   ]
  },
  {
   "cell_type": "code",
   "execution_count": 11,
   "id": "average-shaft",
   "metadata": {},
   "outputs": [],
   "source": [
    "# Sample negative edges\n",
    "REMOVE_EDGE_NO = len(pos)\n",
    "buffer = 100000 # in case some edges already do exist, or if date is weird\n",
    "sample_ref = random.sample(list(network.CITED_DOI.values), REMOVE_EDGE_NO+buffer)\n",
    "sample_paper = random.sample(list(network.CITING_DOI.values), REMOVE_EDGE_NO+buffer)\n",
    "neg = pd.DataFrame(data={\"CITING_DOI\":sample_paper, \"CITED_DOI\":sample_ref})\n",
    "\n",
    "# ensure date of citing paper < date of cited reference\n",
    "neg = neg.merge(aps_all[[\"CITING_DOI\", \"CITING_YEAR\"]].drop_duplicates(), on=\"CITING_DOI\")\\\n",
    "                     .merge(aps_all[[\"CITED_DOI\", \"CITED_YEAR\"]].drop_duplicates(), on=\"CITED_DOI\")\n",
    "neg = neg[neg.CITING_YEAR >= neg.CITED_YEAR]"
   ]
  },
  {
   "cell_type": "code",
   "execution_count": 12,
   "id": "stable-gather",
   "metadata": {},
   "outputs": [],
   "source": [
    "# Ensure all edges don't exist in embedded network\n",
    "neg = neg.merge(network[[\"CITING_DOI\", \"CITED_DOI\"]], on=[\"CITING_DOI\", \"CITED_DOI\"], how=\"left\", indicator=True)\n",
    "neg = neg[neg._merge == \"left_only\"].drop(\"_merge\", axis=1)\n",
    "neg = neg.sample(n = REMOVE_EDGE_NO)"
   ]
  },
  {
   "cell_type": "code",
   "execution_count": 13,
   "id": "hourly-judge",
   "metadata": {},
   "outputs": [],
   "source": [
    "# labels\n",
    "pos[\"TRUE\"] = 1\n",
    "neg[\"TRUE\"] = 0"
   ]
  },
  {
   "cell_type": "code",
   "execution_count": 14,
   "id": "filled-script",
   "metadata": {},
   "outputs": [],
   "source": [
    "pos = pos.drop(labels=[\"CITING_ABSTRACT\", \"CITED_ABSTRACT\"], axis=1)"
   ]
  },
  {
   "cell_type": "code",
   "execution_count": 15,
   "id": "suburban-generator",
   "metadata": {},
   "outputs": [],
   "source": [
    "neg = neg.drop(labels=[\"CITING_YEAR\", \"CITED_YEAR\"], axis=1)"
   ]
  },
  {
   "cell_type": "code",
   "execution_count": 16,
   "id": "thirty-sight",
   "metadata": {},
   "outputs": [],
   "source": [
    "EMB_PROPERTY = [\"abstract\"]*3\n",
    "EMB_METHOD = [\"doc2vec\", \"scibert\", \"sentencebert\"]\n",
    "EMB = zip(EMB_PROPERTY, EMB_METHOD)\n",
    "\n",
    "for e in EMB:\n",
    "    EMB_PATH = j(DATA_DIRS[0], \"embedding\", \"link-prediction\", \"aps_all_2010_{}_{}_50-pct_vector.gz\".format(e[0], e[1]))\n",
    "    embedding = pd.read_csv(EMB_PATH, index_col=\"DOI\")\n",
    "    emb_cols = [str(i) for i in range(embedding.shape[1])]\n",
    "    \n",
    "    test_data = pd.concat([pos, neg])\n",
    "    distance_left = test_data[[\"CITING_DOI\"]].merge(embedding, left_on=\"CITING_DOI\", right_index=True, how=\"left\")\n",
    "    distance_right = test_data[[\"CITED_DOI\"]].merge(embedding, left_on=\"CITED_DOI\", right_index=True, how=\"left\")\n",
    "    \n",
    "    test_data[\"PRED\"] = (\n",
    "    np.einsum(\"ij,ij->i\", distance_left[emb_cols].values, distance_right[emb_cols].values)\n",
    "    / (\n",
    "        np.linalg.norm(distance_left[emb_cols].values, axis=1)\n",
    "        * np.linalg.norm(distance_right[emb_cols].values, axis=1)\n",
    "    )\n",
    "    )\n",
    "    test_data = test_data[~pd.isna(test_data.PRED)]\n",
    "    \n",
    "    e_fpr, e_tpr, _ = roc_curve(test_data[\"TRUE\"], test_data[\"PRED\"])\n",
    "    fpr[e] = e_fpr\n",
    "    tpr[e] = e_tpr\n",
    "    roc_auc[e] = auc(e_fpr, e_tpr)"
   ]
  },
  {
   "cell_type": "code",
   "execution_count": 17,
   "id": "intelligent-advantage",
   "metadata": {},
   "outputs": [
    {
     "data": {
      "text/plain": [
       "{('undirected', 'leigenmap'): 0.9285662845806861,\n",
       " ('undirected', 'node2vec'): 0.9886551590425251,\n",
       " ('undirected', 'residual2vec'): 0.9806462898062036,\n",
       " ('title', 'doc2vec'): 0.5475960202632849,\n",
       " ('title', 'scibert'): 0.5502424359111607,\n",
       " ('title', 'sentencebert'): 0.863142884349383,\n",
       " ('abstract', 'doc2vec'): 0.6367622453946267,\n",
       " ('abstract', 'scibert'): 0.5391735661879539,\n",
       " ('abstract', 'sentencebert'): 0.9280126247733154}"
      ]
     },
     "execution_count": 17,
     "metadata": {},
     "output_type": "execute_result"
    }
   ],
   "source": [
    "roc_auc"
   ]
  },
  {
   "cell_type": "markdown",
   "id": "legal-bacon",
   "metadata": {},
   "source": [
    "# Figure"
   ]
  },
  {
   "cell_type": "code",
   "execution_count": 18,
   "id": "reverse-concept",
   "metadata": {},
   "outputs": [],
   "source": [
    "labels = [\n",
    "    \"Laplacian Eigenmap\",\n",
    "    \"node2vec\",\n",
    "    \"residual2vec\",\n",
    "    \"doc2vec, title\",\n",
    "    \"SciBERT, title\",\n",
    "    \"Sentence-BERT, title\",\n",
    "    \"doc2vec, abstract\",\n",
    "    \"SciBERT, abstract\",\n",
    "    \"Sentence-BERT, abstract\",\n",
    "]\n",
    "labels = dict(zip(roc_auc.keys(), labels))"
   ]
  },
  {
   "cell_type": "code",
   "execution_count": 19,
   "id": "terminal-dressing",
   "metadata": {},
   "outputs": [],
   "source": [
    "fig_colors = [\"teal\", \"steelblue\", \"blue\", \"orchid\", \"coral\", \"orange\", \"darkorchid\", \"tab:red\", \"darkorange\"]\n",
    "fig_colors = dict(zip(roc_auc.keys(), fig_colors))"
   ]
  },
  {
   "cell_type": "code",
   "execution_count": 20,
   "id": "rural-royal",
   "metadata": {},
   "outputs": [
    {
     "data": {
      "text/plain": [
       "{('undirected', 'leigenmap'): 'teal',\n",
       " ('undirected', 'node2vec'): 'steelblue',\n",
       " ('undirected', 'residual2vec'): 'blue',\n",
       " ('title', 'doc2vec'): 'orchid',\n",
       " ('title', 'scibert'): 'coral',\n",
       " ('title', 'sentencebert'): 'orange',\n",
       " ('abstract', 'doc2vec'): 'darkorchid',\n",
       " ('abstract', 'scibert'): 'tab:red',\n",
       " ('abstract', 'sentencebert'): 'darkorange'}"
      ]
     },
     "execution_count": 20,
     "metadata": {},
     "output_type": "execute_result"
    }
   ],
   "source": [
    "fig_colors"
   ]
  },
  {
   "cell_type": "code",
   "execution_count": 21,
   "id": "adequate-declaration",
   "metadata": {},
   "outputs": [
    {
     "data": {
      "text/plain": [
       "{('undirected', 'node2vec'): 0.9886551590425251,\n",
       " ('undirected', 'residual2vec'): 0.9806462898062036,\n",
       " ('undirected', 'leigenmap'): 0.9285662845806861,\n",
       " ('abstract', 'sentencebert'): 0.9280126247733154,\n",
       " ('title', 'sentencebert'): 0.863142884349383,\n",
       " ('abstract', 'doc2vec'): 0.6367622453946267,\n",
       " ('title', 'scibert'): 0.5502424359111607,\n",
       " ('title', 'doc2vec'): 0.5475960202632849,\n",
       " ('abstract', 'scibert'): 0.5391735661879539}"
      ]
     },
     "execution_count": 21,
     "metadata": {},
     "output_type": "execute_result"
    }
   ],
   "source": [
    "dict(sorted(roc_auc.items(), key=lambda item: item[1], reverse=True))"
   ]
  },
  {
   "cell_type": "code",
   "execution_count": 22,
   "id": "cloudy-classification",
   "metadata": {},
   "outputs": [],
   "source": [
    "roc_auc = dict(sorted(roc_auc.items(), key=lambda item: item[1], reverse=True))"
   ]
  },
  {
   "cell_type": "code",
   "execution_count": 23,
   "id": "absent-plumbing",
   "metadata": {},
   "outputs": [],
   "source": [
    "FIG_PATH = j(\"outputs\", \"aps_all_2010_link_pred_50-pct_all_abs.pdf\")"
   ]
  },
  {
   "cell_type": "code",
   "execution_count": 25,
   "id": "blessed-account",
   "metadata": {},
   "outputs": [
    {
     "data": {
      "image/png": "[encoded data removed]",
      "text/plain": [
       "<Figure size 504x432 with 1 Axes>"
      ]
     },
     "metadata": {
      "needs_background": "light"
     },
     "output_type": "display_data"
    }
   ],
   "source": [
    "plt.figure(figsize=(7,6))\n",
    "for e in (roc_auc.keys()):\n",
    "    plt.plot(\n",
    "        fpr[e],\n",
    "        tpr[e],\n",
    "        label= labels[e] + \" (area = %0.2f)\" % roc_auc[e],\n",
    "        color=fig_colors[e]\n",
    "    )\n",
    "plt.xlim([0.0, 1.0])\n",
    "plt.ylim([0.0, 1.05])\n",
    "plt.xlabel(\"False Positive Rate\", fontsize=14)\n",
    "plt.ylabel(\"True Positive Rate\", fontsize=14)\n",
    "plt.legend(loc=\"lower right\", fontsize=11)\n",
    "plt.savefig(FIG_PATH, bbox_inches=\"tight\")"
   ]
  },
  {
   "cell_type": "code",
   "execution_count": null,
   "id": "cosmetic-header",
   "metadata": {},
   "outputs": [],
   "source": []
  }
 ],
 "metadata": {
  "kernelspec": {
   "display_name": "Python [conda env:embed-sci-disc]",
   "language": "python",
   "name": "conda-env-embed-sci-disc-py"
  },
  "language_info": {
   "codemirror_mode": {
    "name": "ipython",
    "version": 3
   },
   "file_extension": ".py",
   "mimetype": "text/x-python",
   "name": "python",
   "nbconvert_exporter": "python",
   "pygments_lexer": "ipython3",
   "version": "3.7.3"
  }
 },
 "nbformat": 4,
 "nbformat_minor": 5
}
