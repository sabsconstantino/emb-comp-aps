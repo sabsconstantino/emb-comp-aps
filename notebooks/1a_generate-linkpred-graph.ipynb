{
 "cells": [
  {
   "cell_type": "code",
   "execution_count": 1,
   "metadata": {},
   "outputs": [
    {
     "data": {
      "text/html": [
       "\n",
       "\t\t\t<script type=\"text/javascript\">\n",
       "\t\t\t<!--\n",
       "\t\t\t\t\n",
       "\t\t\t{\n",
       "\t\t\t\tvar element = document.getElementById('NetworKit_script');\n",
       "\t\t\t\tif (element) {\n",
       "\t\t\t\t\telement.parentNode.removeChild(element);\n",
       "\t\t\t\t}\n",
       "\t\t\t\telement = document.createElement('script');\n",
       "\t\t\t\telement.type = 'text/javascript';\n",
       "\t\t\t\telement.innerHTML = 'function NetworKit_pageEmbed(id) { var i, j; var elements; elements = document.getElementById(id).getElementsByClassName(\"Plot\"); for (i=0; i<elements.length; i++) { elements[i].id = id + \"_Plot_\" + i; var data = elements[i].getAttribute(\"data-image\").split(\"|\"); elements[i].removeAttribute(\"data-image\"); var content = \"<div class=\\\\\"Image\\\\\" id=\\\\\"\" + elements[i].id + \"_Image\\\\\" />\"; elements[i].innerHTML = content; elements[i].setAttribute(\"data-image-index\", 0); elements[i].setAttribute(\"data-image-length\", data.length); for (j=0; j<data.length; j++) { elements[i].setAttribute(\"data-image-\" + j, data[j]); } NetworKit_plotUpdate(elements[i]); elements[i].onclick = function (e) { NetworKit_overlayShow((e.target) ? e.target : e.srcElement); } } elements = document.getElementById(id).getElementsByClassName(\"HeatCell\"); for (i=0; i<elements.length; i++) { var data = parseFloat(elements[i].getAttribute(\"data-heat\")); var color = \"#00FF00\"; if (data <= 1 && data > 0) { color = \"hsla(0, 100%, 75%, \" + (data) + \")\"; } else if (data <= 0 && data >= -1) { color = \"hsla(240, 100%, 75%, \" + (-data) + \")\"; } elements[i].style.backgroundColor = color; } elements = document.getElementById(id).getElementsByClassName(\"Details\"); for (i=0; i<elements.length; i++) { elements[i].setAttribute(\"data-title\", \"-\"); NetworKit_toggleDetails(elements[i]); elements[i].onclick = function (e) { NetworKit_toggleDetails((e.target) ? e.target : e.srcElement); } } elements = document.getElementById(id).getElementsByClassName(\"MathValue\"); for (i=elements.length-1; i>=0; i--) { value = elements[i].innerHTML.trim(); if (value === \"nan\") { elements[i].parentNode.innerHTML = \"\" } } elements = document.getElementById(id).getElementsByClassName(\"SubCategory\"); for (i=elements.length-1; i>=0; i--) { value = elements[i].innerHTML.trim(); if (value === \"\") { elements[i].parentNode.removeChild(elements[i]) } } elements = document.getElementById(id).getElementsByClassName(\"Category\"); for (i=elements.length-1; i>=0; i--) { value = elements[i].innerHTML.trim(); if (value === \"\") { elements[i].parentNode.removeChild(elements[i]) } } var isFirefox = false; try { isFirefox = typeof InstallTrigger !== \"undefined\"; } catch (e) {} if (!isFirefox) { alert(\"Currently the function\\'s output is only fully supported by Firefox.\"); } } function NetworKit_plotUpdate(source) { var index = source.getAttribute(\"data-image-index\"); var data = source.getAttribute(\"data-image-\" + index); var image = document.getElementById(source.id + \"_Image\"); image.style.backgroundImage = \"url(\" + data + \")\"; } function NetworKit_showElement(id, show) { var element = document.getElementById(id); element.style.display = (show) ? \"block\" : \"none\"; } function NetworKit_overlayShow(source) { NetworKit_overlayUpdate(source); NetworKit_showElement(\"NetworKit_Overlay\", true); } function NetworKit_overlayUpdate(source) { document.getElementById(\"NetworKit_Overlay_Title\").innerHTML = source.title; var index = source.getAttribute(\"data-image-index\"); var data = source.getAttribute(\"data-image-\" + index); var image = document.getElementById(\"NetworKit_Overlay_Image\"); image.setAttribute(\"data-id\", source.id); image.style.backgroundImage = \"url(\" + data + \")\"; var link = document.getElementById(\"NetworKit_Overlay_Toolbar_Bottom_Save\"); link.href = data; link.download = source.title + \".svg\"; } function NetworKit_overlayImageShift(delta) { var image = document.getElementById(\"NetworKit_Overlay_Image\"); var source = document.getElementById(image.getAttribute(\"data-id\")); var index = parseInt(source.getAttribute(\"data-image-index\")); var length = parseInt(source.getAttribute(\"data-image-length\")); var index = (index+delta) % length; if (index < 0) { index = length + index; } source.setAttribute(\"data-image-index\", index); NetworKit_overlayUpdate(source); } function NetworKit_toggleDetails(source) { var childs = source.children; var show = false; if (source.getAttribute(\"data-title\") == \"-\") { source.setAttribute(\"data-title\", \"+\"); show = false; } else { source.setAttribute(\"data-title\", \"-\"); show = true; } for (i=0; i<childs.length; i++) { if (show) { childs[i].style.display = \"block\"; } else { childs[i].style.display = \"none\"; } } }';\n",
       "\t\t\t\telement.setAttribute('id', 'NetworKit_script');\n",
       "\t\t\t\tdocument.head.appendChild(element);\n",
       "\t\t\t}\n",
       "\t\t\n",
       "\t\t\t\t\n",
       "\t\t\t{\n",
       "\t\t\t\tvar element = document.getElementById('NetworKit_style');\n",
       "\t\t\t\tif (element) {\n",
       "\t\t\t\t\telement.parentNode.removeChild(element);\n",
       "\t\t\t\t}\n",
       "\t\t\t\telement = document.createElement('style');\n",
       "\t\t\t\telement.type = 'text/css';\n",
       "\t\t\t\telement.innerHTML = '.NetworKit_Page { font-family: Arial, Helvetica, sans-serif; font-size: 14px; } .NetworKit_Page .Value:before { font-family: Arial, Helvetica, sans-serif; font-size: 1.05em; content: attr(data-title) \":\"; margin-left: -2.5em; padding-right: 0.5em; } .NetworKit_Page .Details .Value:before { display: block; } .NetworKit_Page .Value { font-family: monospace; white-space: pre; padding-left: 2.5em; white-space: -moz-pre-wrap !important; white-space: -pre-wrap; white-space: -o-pre-wrap; white-space: pre-wrap; word-wrap: break-word; tab-size: 4; -moz-tab-size: 4; } .NetworKit_Page .Category { clear: both; padding-left: 1em; margin-bottom: 1.5em; } .NetworKit_Page .Category:before { content: attr(data-title); font-size: 1.75em; display: block; margin-left: -0.8em; margin-bottom: 0.5em; } .NetworKit_Page .SubCategory { margin-bottom: 1.5em; padding-left: 1em; } .NetworKit_Page .SubCategory:before { font-size: 1.6em; display: block; margin-left: -0.8em; margin-bottom: 0.5em; } .NetworKit_Page .SubCategory[data-title]:before { content: attr(data-title); } .NetworKit_Page .Block { display: block; } .NetworKit_Page .Block:after { content: \".\"; visibility: hidden; display: block; height: 0; clear: both; } .NetworKit_Page .Block .Thumbnail_Overview, .NetworKit_Page .Block .Thumbnail_ScatterPlot { width: 260px; float: left; } .NetworKit_Page .Block .Thumbnail_Overview img, .NetworKit_Page .Block .Thumbnail_ScatterPlot img { width: 260px; } .NetworKit_Page .Block .Thumbnail_Overview:before, .NetworKit_Page .Block .Thumbnail_ScatterPlot:before { display: block; text-align: center; font-weight: bold; } .NetworKit_Page .Block .Thumbnail_Overview:before { content: attr(data-title); } .NetworKit_Page .HeatCell { font-family: \"Courier New\", Courier, monospace; cursor: pointer; } .NetworKit_Page .HeatCell, .NetworKit_Page .HeatCellName { display: inline; padding: 0.1em; margin-right: 2px; background-color: #FFFFFF } .NetworKit_Page .HeatCellName { margin-left: 0.25em; } .NetworKit_Page .HeatCell:before { content: attr(data-heat); display: inline-block; color: #000000; width: 4em; text-align: center; } .NetworKit_Page .Measure { clear: both; } .NetworKit_Page .Measure .Details { cursor: pointer; } .NetworKit_Page .Measure .Details:before { content: \"[\" attr(data-title) \"]\"; display: block; } .NetworKit_Page .Measure .Details .Value { border-left: 1px dotted black; margin-left: 0.4em; padding-left: 3.5em; pointer-events: none; } .NetworKit_Page .Measure .Details .Spacer:before { content: \".\"; opacity: 0.0; pointer-events: none; } .NetworKit_Page .Measure .Plot { width: 440px; height: 440px; cursor: pointer; float: left; margin-left: -0.9em; margin-right: 20px; } .NetworKit_Page .Measure .Plot .Image { background-repeat: no-repeat; background-position: center center; background-size: contain; height: 100%; pointer-events: none; } .NetworKit_Page .Measure .Stat { width: 500px; float: left; } .NetworKit_Page .Measure .Stat .Group { padding-left: 1.25em; margin-bottom: 0.75em; } .NetworKit_Page .Measure .Stat .Group .Title { font-size: 1.1em; display: block; margin-bottom: 0.3em; margin-left: -0.75em; border-right-style: dotted; border-right-width: 1px; border-bottom-style: dotted; border-bottom-width: 1px; background-color: #D0D0D0; padding-left: 0.2em; } .NetworKit_Page .Measure .Stat .Group .List { -webkit-column-count: 3; -moz-column-count: 3; column-count: 3; } .NetworKit_Page .Measure .Stat .Group .List .Entry { position: relative; line-height: 1.75em; } .NetworKit_Page .Measure .Stat .Group .List .Entry[data-tooltip]:before { position: absolute; left: 0; top: -40px; background-color: #808080; color: #ffffff; height: 30px; line-height: 30px; border-radius: 5px; padding: 0 15px; content: attr(data-tooltip); white-space: nowrap; display: none; } .NetworKit_Page .Measure .Stat .Group .List .Entry[data-tooltip]:after { position: absolute; left: 15px; top: -10px; border-top: 7px solid #808080; border-left: 7px solid transparent; border-right: 7px solid transparent; content: \"\"; display: none; } .NetworKit_Page .Measure .Stat .Group .List .Entry[data-tooltip]:hover:after, .NetworKit_Page .Measure .Stat .Group .List .Entry[data-tooltip]:hover:before { display: block; } .NetworKit_Page .Measure .Stat .Group .List .Entry .MathValue { font-family: \"Courier New\", Courier, monospace; } .NetworKit_Page .Measure:after { content: \".\"; visibility: hidden; display: block; height: 0; clear: both; } .NetworKit_Page .PartitionPie { clear: both; } .NetworKit_Page .PartitionPie img { width: 600px; } #NetworKit_Overlay { left: 0px; top: 0px; display: none; position: absolute; width: 100%; height: 100%; background-color: rgba(0,0,0,0.6); z-index: 1000; } #NetworKit_Overlay_Title { position: absolute; color: white; transform: rotate(-90deg); width: 32em; height: 32em; padding-right: 0.5em; padding-top: 0.5em; text-align: right; font-size: 40px; } #NetworKit_Overlay .button { background: white; cursor: pointer; } #NetworKit_Overlay .button:before { size: 13px; display: inline-block; text-align: center; margin-top: 0.5em; margin-bottom: 0.5em; width: 1.5em; height: 1.5em; } #NetworKit_Overlay .icon-close:before { content: \"X\"; } #NetworKit_Overlay .icon-previous:before { content: \"P\"; } #NetworKit_Overlay .icon-next:before { content: \"N\"; } #NetworKit_Overlay .icon-save:before { content: \"S\"; } #NetworKit_Overlay_Toolbar_Top, #NetworKit_Overlay_Toolbar_Bottom { position: absolute; width: 40px; right: 13px; text-align: right; z-index: 1100; } #NetworKit_Overlay_Toolbar_Top { top: 0.5em; } #NetworKit_Overlay_Toolbar_Bottom { Bottom: 0.5em; } #NetworKit_Overlay_ImageContainer { position: absolute; top: 5%; left: 5%; height: 90%; width: 90%; background-repeat: no-repeat; background-position: center center; background-size: contain; } #NetworKit_Overlay_Image { height: 100%; width: 100%; background-repeat: no-repeat; background-position: center center; background-size: contain; }';\n",
       "\t\t\t\telement.setAttribute('id', 'NetworKit_style');\n",
       "\t\t\t\tdocument.head.appendChild(element);\n",
       "\t\t\t}\n",
       "\t\t\n",
       "\t\t\t\t\n",
       "\t\t\t{\n",
       "\t\t\t\tvar element = document.getElementById('NetworKit_Overlay');\n",
       "\t\t\t\tif (element) {\n",
       "\t\t\t\t\telement.parentNode.removeChild(element);\n",
       "\t\t\t\t}\n",
       "\t\t\t\telement = document.createElement('div');\n",
       "\t\t\t\telement.innerHTML = '<div id=\"NetworKit_Overlay_Toolbar_Top\"><div class=\"button icon-close\" id=\"NetworKit_Overlay_Close\" /></div><div id=\"NetworKit_Overlay_Title\" /> <div id=\"NetworKit_Overlay_ImageContainer\"> <div id=\"NetworKit_Overlay_Image\" /> </div> <div id=\"NetworKit_Overlay_Toolbar_Bottom\"> <div class=\"button icon-previous\" onclick=\"NetworKit_overlayImageShift(-1)\" /> <div class=\"button icon-next\" onclick=\"NetworKit_overlayImageShift(1)\" /> <a id=\"NetworKit_Overlay_Toolbar_Bottom_Save\"><div class=\"button icon-save\" /></a> </div>';\n",
       "\t\t\t\telement.setAttribute('id', 'NetworKit_Overlay');\n",
       "\t\t\t\tdocument.body.appendChild(element);\n",
       "\t\t\t\tdocument.getElementById('NetworKit_Overlay_Close').onclick = function (e) {\n",
       "\t\t\t\t\tdocument.getElementById('NetworKit_Overlay').style.display = 'none';\n",
       "\t\t\t\t}\n",
       "\t\t\t}\n",
       "\t\t\n",
       "\t\t\t-->\n",
       "\t\t\t</script>\n",
       "\t\t"
      ]
     },
     "metadata": {},
     "output_type": "display_data"
    }
   ],
   "source": [
    "from os.path import join as j\n",
    "import littleballoffur\n",
    "import pandas as pd\n",
    "import networkx as nx\n",
    "import random"
   ]
  },
  {
   "cell_type": "markdown",
   "metadata": {},
   "source": [
    "# Load data"
   ]
  },
  {
   "cell_type": "code",
   "execution_count": 2,
   "metadata": {},
   "outputs": [],
   "source": [
    "with open(\"../data_dirs.txt\", \"r\") as f: # your dataset folder should  be in a text file here\n",
    "    DATA_DIRS = f.readlines()\n",
    "    DATA_DIRS = [p.strip() for p in DATA_DIRS]"
   ]
  },
  {
   "cell_type": "code",
   "execution_count": 3,
   "metadata": {},
   "outputs": [],
   "source": [
    "APS_CIT_PATH = j(DATA_DIRS[0], \"derived\", \"journal_citations\", \"aps_all_2010_citations.csv\")"
   ]
  },
  {
   "cell_type": "code",
   "execution_count": 4,
   "metadata": {},
   "outputs": [],
   "source": [
    "cols = [\"CITED_DOI\", \"CITING_DOI\", \"CITING_YEAR\", \"CITED_YEAR\"]\n",
    "dtypes = dict(zip(cols, [\"str\"]*2+[\"int\"]*2))\n",
    "cit = pd.read_csv(APS_CIT_PATH, usecols=cols, dtype=dtypes)"
   ]
  },
  {
   "cell_type": "code",
   "execution_count": 5,
   "metadata": {},
   "outputs": [
    {
     "data": {
      "text/html": [
       "<div>\n",
       "<style scoped>\n",
       "    .dataframe tbody tr th:only-of-type {\n",
       "        vertical-align: middle;\n",
       "    }\n",
       "\n",
       "    .dataframe tbody tr th {\n",
       "        vertical-align: top;\n",
       "    }\n",
       "\n",
       "    .dataframe thead th {\n",
       "        text-align: right;\n",
       "    }\n",
       "</style>\n",
       "<table border=\"1\" class=\"dataframe\">\n",
       "  <thead>\n",
       "    <tr style=\"text-align: right;\">\n",
       "      <th></th>\n",
       "      <th>CITING_DOI</th>\n",
       "      <th>CITED_DOI</th>\n",
       "      <th>CITING_YEAR</th>\n",
       "      <th>CITED_YEAR</th>\n",
       "    </tr>\n",
       "  </thead>\n",
       "  <tbody>\n",
       "    <tr>\n",
       "      <th>0</th>\n",
       "      <td>10.1103/PhysRevSeriesI.11.215</td>\n",
       "      <td>10.1103/PhysRevSeriesI.1.1</td>\n",
       "      <td>1900</td>\n",
       "      <td>1893</td>\n",
       "    </tr>\n",
       "    <tr>\n",
       "      <th>1</th>\n",
       "      <td>10.1103/PhysRevSeriesI.11.215</td>\n",
       "      <td>10.1103/PhysRevSeriesI.2.161</td>\n",
       "      <td>1900</td>\n",
       "      <td>1894</td>\n",
       "    </tr>\n",
       "    <tr>\n",
       "      <th>2</th>\n",
       "      <td>10.1103/PhysRevSeriesI.17.65</td>\n",
       "      <td>10.1103/PhysRevSeriesI.2.161</td>\n",
       "      <td>1903</td>\n",
       "      <td>1894</td>\n",
       "    </tr>\n",
       "    <tr>\n",
       "      <th>3</th>\n",
       "      <td>10.1103/PhysRevSeriesI.12.121</td>\n",
       "      <td>10.1103/PhysRevSeriesI.1.166</td>\n",
       "      <td>1901</td>\n",
       "      <td>1893</td>\n",
       "    </tr>\n",
       "    <tr>\n",
       "      <th>4</th>\n",
       "      <td>10.1103/PhysRevSeriesI.7.93</td>\n",
       "      <td>10.1103/PhysRevSeriesI.1.166</td>\n",
       "      <td>1898</td>\n",
       "      <td>1893</td>\n",
       "    </tr>\n",
       "    <tr>\n",
       "      <th>...</th>\n",
       "      <td>...</td>\n",
       "      <td>...</td>\n",
       "      <td>...</td>\n",
       "      <td>...</td>\n",
       "    </tr>\n",
       "    <tr>\n",
       "      <th>4931138</th>\n",
       "      <td>10.1103/PhysRevD.82.066009</td>\n",
       "      <td>10.1103/PhysRevD.81.046004</td>\n",
       "      <td>2010</td>\n",
       "      <td>2010</td>\n",
       "    </tr>\n",
       "    <tr>\n",
       "      <th>4931139</th>\n",
       "      <td>10.1103/PhysRevD.82.105007</td>\n",
       "      <td>10.1103/PhysRevD.81.046004</td>\n",
       "      <td>2010</td>\n",
       "      <td>2010</td>\n",
       "    </tr>\n",
       "    <tr>\n",
       "      <th>4931140</th>\n",
       "      <td>10.1103/PhysRevSTAB.13.070402</td>\n",
       "      <td>10.1103/PhysRevSTAB.12.110401</td>\n",
       "      <td>2010</td>\n",
       "      <td>2009</td>\n",
       "    </tr>\n",
       "    <tr>\n",
       "      <th>4931141</th>\n",
       "      <td>10.1103/PhysRevB.82.212401</td>\n",
       "      <td>10.1103/PhysRevB.81.134421</td>\n",
       "      <td>2010</td>\n",
       "      <td>2010</td>\n",
       "    </tr>\n",
       "    <tr>\n",
       "      <th>4931142</th>\n",
       "      <td>10.1103/PhysRevD.82.025020</td>\n",
       "      <td>10.1103/PhysRevD.81.105017</td>\n",
       "      <td>2010</td>\n",
       "      <td>2010</td>\n",
       "    </tr>\n",
       "  </tbody>\n",
       "</table>\n",
       "<p>4931143 rows × 4 columns</p>\n",
       "</div>"
      ],
      "text/plain": [
       "                            CITING_DOI                      CITED_DOI  \\\n",
       "0        10.1103/PhysRevSeriesI.11.215     10.1103/PhysRevSeriesI.1.1   \n",
       "1        10.1103/PhysRevSeriesI.11.215   10.1103/PhysRevSeriesI.2.161   \n",
       "2         10.1103/PhysRevSeriesI.17.65   10.1103/PhysRevSeriesI.2.161   \n",
       "3        10.1103/PhysRevSeriesI.12.121   10.1103/PhysRevSeriesI.1.166   \n",
       "4          10.1103/PhysRevSeriesI.7.93   10.1103/PhysRevSeriesI.1.166   \n",
       "...                                ...                            ...   \n",
       "4931138     10.1103/PhysRevD.82.066009     10.1103/PhysRevD.81.046004   \n",
       "4931139     10.1103/PhysRevD.82.105007     10.1103/PhysRevD.81.046004   \n",
       "4931140  10.1103/PhysRevSTAB.13.070402  10.1103/PhysRevSTAB.12.110401   \n",
       "4931141     10.1103/PhysRevB.82.212401     10.1103/PhysRevB.81.134421   \n",
       "4931142     10.1103/PhysRevD.82.025020     10.1103/PhysRevD.81.105017   \n",
       "\n",
       "         CITING_YEAR  CITED_YEAR  \n",
       "0               1900        1893  \n",
       "1               1900        1894  \n",
       "2               1903        1894  \n",
       "3               1901        1893  \n",
       "4               1898        1893  \n",
       "...              ...         ...  \n",
       "4931138         2010        2010  \n",
       "4931139         2010        2010  \n",
       "4931140         2010        2009  \n",
       "4931141         2010        2010  \n",
       "4931142         2010        2010  \n",
       "\n",
       "[4931143 rows x 4 columns]"
      ]
     },
     "execution_count": 5,
     "metadata": {},
     "output_type": "execute_result"
    }
   ],
   "source": [
    "cit"
   ]
  },
  {
   "cell_type": "code",
   "execution_count": 6,
   "metadata": {},
   "outputs": [
    {
     "data": {
      "text/plain": [
       "298318"
      ]
     },
     "execution_count": 6,
     "metadata": {},
     "output_type": "execute_result"
    }
   ],
   "source": [
    "len(cit[cit.CITING_YEAR == 2010])"
   ]
  },
  {
   "cell_type": "code",
   "execution_count": 7,
   "metadata": {},
   "outputs": [],
   "source": [
    "cit_2010 = cit[cit.CITING_YEAR == 2010]"
   ]
  },
  {
   "cell_type": "markdown",
   "metadata": {},
   "source": [
    "# Merge with abstract data"
   ]
  },
  {
   "cell_type": "code",
   "execution_count": 8,
   "metadata": {},
   "outputs": [],
   "source": [
    "APS_ABS_PATH = j(DATA_DIRS[0], \"raw\", \"WOS\", \"wos_aps_abstracts.bz2\")"
   ]
  },
  {
   "cell_type": "code",
   "execution_count": 9,
   "metadata": {},
   "outputs": [],
   "source": [
    "abstracts = pd.read_csv(APS_ABS_PATH, dtype=\"str\", index_col=\"DOI\")"
   ]
  },
  {
   "cell_type": "code",
   "execution_count": 10,
   "metadata": {},
   "outputs": [
    {
     "data": {
      "text/html": [
       "<div>\n",
       "<style scoped>\n",
       "    .dataframe tbody tr th:only-of-type {\n",
       "        vertical-align: middle;\n",
       "    }\n",
       "\n",
       "    .dataframe tbody tr th {\n",
       "        vertical-align: top;\n",
       "    }\n",
       "\n",
       "    .dataframe thead th {\n",
       "        text-align: right;\n",
       "    }\n",
       "</style>\n",
       "<table border=\"1\" class=\"dataframe\">\n",
       "  <thead>\n",
       "    <tr style=\"text-align: right;\">\n",
       "      <th></th>\n",
       "      <th>ABSTRACT</th>\n",
       "    </tr>\n",
       "    <tr>\n",
       "      <th>DOI</th>\n",
       "      <th></th>\n",
       "    </tr>\n",
       "  </thead>\n",
       "  <tbody>\n",
       "    <tr>\n",
       "      <th>10.1103/PhysRevE.63.056310</th>\n",
       "      <td>Heat transport in He-3 above its critical temp...</td>\n",
       "    </tr>\n",
       "    <tr>\n",
       "      <th>10.1103/PhysRevB.64.235210</th>\n",
       "      <td>We study cyclotron resonance line shapes (CRLS...</td>\n",
       "    </tr>\n",
       "    <tr>\n",
       "      <th>10.1103/PhysRevLett.87.051601</th>\n",
       "      <td>The widely used relation &lt;(&lt;alpha&gt;)over tilde&gt;...</td>\n",
       "    </tr>\n",
       "    <tr>\n",
       "      <th>10.1103/PhysRevE.63.021115</th>\n",
       "      <td>We study the thermally activated barrier cross...</td>\n",
       "    </tr>\n",
       "    <tr>\n",
       "      <th>10.1103/PhysRevLett.87.016104</th>\n",
       "      <td>Unstable thin liquid films on solid substrates...</td>\n",
       "    </tr>\n",
       "    <tr>\n",
       "      <th>...</th>\n",
       "      <td>...</td>\n",
       "    </tr>\n",
       "    <tr>\n",
       "      <th>10.1103/PhysRevB.46.4693</th>\n",
       "      <td>The quantum-size-effect structure of ultrathin...</td>\n",
       "    </tr>\n",
       "    <tr>\n",
       "      <th>10.1103/PhysRevLett.68.1236</th>\n",
       "      <td>Y-89 NMR spectra in an oriented sample of YBa2...</td>\n",
       "    </tr>\n",
       "    <tr>\n",
       "      <th>10.1103/PhysRevB.46.7559</th>\n",
       "      <td>In a p+-n+-p-n- device driven by a dc-voltage ...</td>\n",
       "    </tr>\n",
       "    <tr>\n",
       "      <th>10.1103/PhysRevB.45.4227</th>\n",
       "      <td>A series of single-quantum-well samples doped ...</td>\n",
       "    </tr>\n",
       "    <tr>\n",
       "      <th>10.1103/PhysRevB.46.2375</th>\n",
       "      <td>A one-dimensional local-mode model is develope...</td>\n",
       "    </tr>\n",
       "  </tbody>\n",
       "</table>\n",
       "<p>358478 rows × 1 columns</p>\n",
       "</div>"
      ],
      "text/plain": [
       "                                                                        ABSTRACT\n",
       "DOI                                                                             \n",
       "10.1103/PhysRevE.63.056310     Heat transport in He-3 above its critical temp...\n",
       "10.1103/PhysRevB.64.235210     We study cyclotron resonance line shapes (CRLS...\n",
       "10.1103/PhysRevLett.87.051601  The widely used relation <(<alpha>)over tilde>...\n",
       "10.1103/PhysRevE.63.021115     We study the thermally activated barrier cross...\n",
       "10.1103/PhysRevLett.87.016104  Unstable thin liquid films on solid substrates...\n",
       "...                                                                          ...\n",
       "10.1103/PhysRevB.46.4693       The quantum-size-effect structure of ultrathin...\n",
       "10.1103/PhysRevLett.68.1236    Y-89 NMR spectra in an oriented sample of YBa2...\n",
       "10.1103/PhysRevB.46.7559       In a p+-n+-p-n- device driven by a dc-voltage ...\n",
       "10.1103/PhysRevB.45.4227       A series of single-quantum-well samples doped ...\n",
       "10.1103/PhysRevB.46.2375       A one-dimensional local-mode model is develope...\n",
       "\n",
       "[358478 rows x 1 columns]"
      ]
     },
     "execution_count": 10,
     "metadata": {},
     "output_type": "execute_result"
    }
   ],
   "source": [
    "abstracts"
   ]
  },
  {
   "cell_type": "code",
   "execution_count": 11,
   "metadata": {},
   "outputs": [
    {
     "data": {
      "text/plain": [
       "ABSTRACT    27605\n",
       "dtype: int64"
      ]
     },
     "execution_count": 11,
     "metadata": {},
     "output_type": "execute_result"
    }
   ],
   "source": [
    "pd.isna(abstracts).sum()"
   ]
  },
  {
   "cell_type": "code",
   "execution_count": 12,
   "metadata": {},
   "outputs": [],
   "source": [
    "abstracts = abstracts[(~pd.isna(abstracts.ABSTRACT)) & (abstracts.ABSTRACT != \"\")]"
   ]
  },
  {
   "cell_type": "code",
   "execution_count": 13,
   "metadata": {},
   "outputs": [
    {
     "data": {
      "text/plain": [
       "329600"
      ]
     },
     "execution_count": 13,
     "metadata": {},
     "output_type": "execute_result"
    }
   ],
   "source": [
    "abstracts.index.nunique()"
   ]
  },
  {
   "cell_type": "code",
   "execution_count": 14,
   "metadata": {},
   "outputs": [
    {
     "data": {
      "text/plain": [
       "10.1103/PhysRevD.58.024017    3\n",
       "10.1103/PhysRevA.73.031402    2\n",
       "10.1103/PhysRevX.8.031024     2\n",
       "10.1103/PhysRevB.78.195115    2\n",
       "10.1103/PhysRevA.73.031602    2\n",
       "                             ..\n",
       "10.1103/PhysRevX.8.041032     1\n",
       "10.1103/PhysRevC.85.045205    1\n",
       "10.1103/PhysRevB.79.104428    1\n",
       "10.1103/PhysRevE.78.051901    1\n",
       "10.1103/PhysRevB.89.140504    1\n",
       "Name: DOI, Length: 329600, dtype: int64"
      ]
     },
     "execution_count": 14,
     "metadata": {},
     "output_type": "execute_result"
    }
   ],
   "source": [
    "abstracts.reset_index().DOI.value_counts()"
   ]
  },
  {
   "cell_type": "code",
   "execution_count": 15,
   "metadata": {},
   "outputs": [
    {
     "data": {
      "text/html": [
       "<div>\n",
       "<style scoped>\n",
       "    .dataframe tbody tr th:only-of-type {\n",
       "        vertical-align: middle;\n",
       "    }\n",
       "\n",
       "    .dataframe tbody tr th {\n",
       "        vertical-align: top;\n",
       "    }\n",
       "\n",
       "    .dataframe thead th {\n",
       "        text-align: right;\n",
       "    }\n",
       "</style>\n",
       "<table border=\"1\" class=\"dataframe\">\n",
       "  <thead>\n",
       "    <tr style=\"text-align: right;\">\n",
       "      <th></th>\n",
       "      <th>ABSTRACT</th>\n",
       "    </tr>\n",
       "    <tr>\n",
       "      <th>DOI</th>\n",
       "      <th></th>\n",
       "    </tr>\n",
       "  </thead>\n",
       "  <tbody>\n",
       "    <tr>\n",
       "      <th>10.1103/PhysRevD.58.024017</th>\n",
       "      <td>We study analytically the initial value proble...</td>\n",
       "    </tr>\n",
       "    <tr>\n",
       "      <th>10.1103/PhysRevD.58.024017</th>\n",
       "      <td>We study the nonlinear gravitational collapse ...</td>\n",
       "    </tr>\n",
       "    <tr>\n",
       "      <th>10.1103/PhysRevD.58.024017</th>\n",
       "      <td>We study analytically the initial value proble...</td>\n",
       "    </tr>\n",
       "  </tbody>\n",
       "</table>\n",
       "</div>"
      ],
      "text/plain": [
       "                                                                     ABSTRACT\n",
       "DOI                                                                          \n",
       "10.1103/PhysRevD.58.024017  We study analytically the initial value proble...\n",
       "10.1103/PhysRevD.58.024017  We study the nonlinear gravitational collapse ...\n",
       "10.1103/PhysRevD.58.024017  We study analytically the initial value proble..."
      ]
     },
     "execution_count": 15,
     "metadata": {},
     "output_type": "execute_result"
    }
   ],
   "source": [
    "abstracts.loc[\"10.1103/PhysRevD.58.024017\"]"
   ]
  },
  {
   "cell_type": "code",
   "execution_count": 16,
   "metadata": {},
   "outputs": [
    {
     "data": {
      "text/plain": [
       "330802"
      ]
     },
     "execution_count": 16,
     "metadata": {},
     "output_type": "execute_result"
    }
   ],
   "source": [
    "len(abstracts.drop_duplicates())"
   ]
  },
  {
   "cell_type": "code",
   "execution_count": 17,
   "metadata": {},
   "outputs": [
    {
     "data": {
      "text/plain": [
       "329601"
      ]
     },
     "execution_count": 17,
     "metadata": {},
     "output_type": "execute_result"
    }
   ],
   "source": [
    "len(abstracts.reset_index().drop_duplicates(subset=\"DOI\"))"
   ]
  },
  {
   "cell_type": "code",
   "execution_count": 18,
   "metadata": {},
   "outputs": [],
   "source": [
    "abstracts = abstracts.reset_index().drop_duplicates(subset=\"DOI\", keep=\"first\").set_index(\"DOI\") # why the duplicates?"
   ]
  },
  {
   "cell_type": "code",
   "execution_count": 19,
   "metadata": {},
   "outputs": [
    {
     "data": {
      "text/html": [
       "<div>\n",
       "<style scoped>\n",
       "    .dataframe tbody tr th:only-of-type {\n",
       "        vertical-align: middle;\n",
       "    }\n",
       "\n",
       "    .dataframe tbody tr th {\n",
       "        vertical-align: top;\n",
       "    }\n",
       "\n",
       "    .dataframe thead th {\n",
       "        text-align: right;\n",
       "    }\n",
       "</style>\n",
       "<table border=\"1\" class=\"dataframe\">\n",
       "  <thead>\n",
       "    <tr style=\"text-align: right;\">\n",
       "      <th></th>\n",
       "      <th>CITING_DOI</th>\n",
       "      <th>CITED_DOI</th>\n",
       "      <th>CITING_YEAR</th>\n",
       "      <th>CITED_YEAR</th>\n",
       "      <th>ABSTRACT_x</th>\n",
       "      <th>ABSTRACT_y</th>\n",
       "    </tr>\n",
       "  </thead>\n",
       "  <tbody>\n",
       "    <tr>\n",
       "      <th>1298535</th>\n",
       "      <td>10.1103/PhysRevLett.101.194503</td>\n",
       "      <td>10.1103/PhysRevE.55.3143</td>\n",
       "      <td>2008</td>\n",
       "      <td>1997</td>\n",
       "      <td>We use the Onsager principle to derive a two-p...</td>\n",
       "      <td>Simple expressions are given for the Newtonian...</td>\n",
       "    </tr>\n",
       "    <tr>\n",
       "      <th>1298538</th>\n",
       "      <td>10.1103/PhysRevE.75.031201</td>\n",
       "      <td>10.1103/PhysRevE.55.3143</td>\n",
       "      <td>2007</td>\n",
       "      <td>1997</td>\n",
       "      <td>We present molecular dynamics calculations of ...</td>\n",
       "      <td>Simple expressions are given for the Newtonian...</td>\n",
       "    </tr>\n",
       "    <tr>\n",
       "      <th>1298540</th>\n",
       "      <td>10.1103/PhysRevE.78.051404</td>\n",
       "      <td>10.1103/PhysRevE.55.3143</td>\n",
       "      <td>2008</td>\n",
       "      <td>1997</td>\n",
       "      <td>The coupled activated dynamics in dense mixtur...</td>\n",
       "      <td>Simple expressions are given for the Newtonian...</td>\n",
       "    </tr>\n",
       "    <tr>\n",
       "      <th>1298537</th>\n",
       "      <td>10.1103/PhysRevE.61.2967</td>\n",
       "      <td>10.1103/PhysRevE.55.3143</td>\n",
       "      <td>2000</td>\n",
       "      <td>1997</td>\n",
       "      <td>We evaluate theoretical expressions for the lo...</td>\n",
       "      <td>Simple expressions are given for the Newtonian...</td>\n",
       "    </tr>\n",
       "    <tr>\n",
       "      <th>1298536</th>\n",
       "      <td>10.1103/PhysRevE.81.051402</td>\n",
       "      <td>10.1103/PhysRevE.55.3143</td>\n",
       "      <td>2010</td>\n",
       "      <td>1997</td>\n",
       "      <td>This paper addresses the relative viscosity of...</td>\n",
       "      <td>Simple expressions are given for the Newtonian...</td>\n",
       "    </tr>\n",
       "    <tr>\n",
       "      <th>...</th>\n",
       "      <td>...</td>\n",
       "      <td>...</td>\n",
       "      <td>...</td>\n",
       "      <td>...</td>\n",
       "      <td>...</td>\n",
       "      <td>...</td>\n",
       "    </tr>\n",
       "    <tr>\n",
       "      <th>4931133</th>\n",
       "      <td>10.1103/PhysRevB.81.054406</td>\n",
       "      <td>10.1103/PhysRevB.80.024113</td>\n",
       "      <td>2010</td>\n",
       "      <td>2009</td>\n",
       "      <td>Magnetically induced reorientation (MIR) of tw...</td>\n",
       "      <td>This is an in situ measurement of the full str...</td>\n",
       "    </tr>\n",
       "    <tr>\n",
       "      <th>4931134</th>\n",
       "      <td>10.1103/PhysRevD.80.025019</td>\n",
       "      <td>10.1103/PhysRevD.80.025018</td>\n",
       "      <td>2009</td>\n",
       "      <td>2009</td>\n",
       "      <td>Classical isometrodynamics is quantized in the...</td>\n",
       "      <td>A generalization of non-Abelian gauge theories...</td>\n",
       "    </tr>\n",
       "    <tr>\n",
       "      <th>4931135</th>\n",
       "      <td>10.1103/PhysRevE.82.031114</td>\n",
       "      <td>10.1103/PhysRevE.80.021106</td>\n",
       "      <td>2010</td>\n",
       "      <td>2009</td>\n",
       "      <td>In many applications one is interested in find...</td>\n",
       "      <td>The problem of estimating a Markov transition ...</td>\n",
       "    </tr>\n",
       "    <tr>\n",
       "      <th>4931140</th>\n",
       "      <td>10.1103/PhysRevSTAB.13.070402</td>\n",
       "      <td>10.1103/PhysRevSTAB.12.110401</td>\n",
       "      <td>2010</td>\n",
       "      <td>2009</td>\n",
       "      <td>The Blumlein pulse forming line (BPFL) consist...</td>\n",
       "      <td>The flat voltage of the main pulse on the load...</td>\n",
       "    </tr>\n",
       "    <tr>\n",
       "      <th>4931142</th>\n",
       "      <td>10.1103/PhysRevD.82.025020</td>\n",
       "      <td>10.1103/PhysRevD.81.105017</td>\n",
       "      <td>2010</td>\n",
       "      <td>2010</td>\n",
       "      <td>It is recently claimed by Nekrasov and Shatash...</td>\n",
       "      <td>We study the relation between the N = 2 gauge ...</td>\n",
       "    </tr>\n",
       "  </tbody>\n",
       "</table>\n",
       "<p>905529 rows × 6 columns</p>\n",
       "</div>"
      ],
      "text/plain": [
       "                             CITING_DOI                      CITED_DOI  \\\n",
       "1298535  10.1103/PhysRevLett.101.194503       10.1103/PhysRevE.55.3143   \n",
       "1298538      10.1103/PhysRevE.75.031201       10.1103/PhysRevE.55.3143   \n",
       "1298540      10.1103/PhysRevE.78.051404       10.1103/PhysRevE.55.3143   \n",
       "1298537        10.1103/PhysRevE.61.2967       10.1103/PhysRevE.55.3143   \n",
       "1298536      10.1103/PhysRevE.81.051402       10.1103/PhysRevE.55.3143   \n",
       "...                                 ...                            ...   \n",
       "4931133      10.1103/PhysRevB.81.054406     10.1103/PhysRevB.80.024113   \n",
       "4931134      10.1103/PhysRevD.80.025019     10.1103/PhysRevD.80.025018   \n",
       "4931135      10.1103/PhysRevE.82.031114     10.1103/PhysRevE.80.021106   \n",
       "4931140   10.1103/PhysRevSTAB.13.070402  10.1103/PhysRevSTAB.12.110401   \n",
       "4931142      10.1103/PhysRevD.82.025020     10.1103/PhysRevD.81.105017   \n",
       "\n",
       "         CITING_YEAR  CITED_YEAR  \\\n",
       "1298535         2008        1997   \n",
       "1298538         2007        1997   \n",
       "1298540         2008        1997   \n",
       "1298537         2000        1997   \n",
       "1298536         2010        1997   \n",
       "...              ...         ...   \n",
       "4931133         2010        2009   \n",
       "4931134         2009        2009   \n",
       "4931135         2010        2009   \n",
       "4931140         2010        2009   \n",
       "4931142         2010        2010   \n",
       "\n",
       "                                                ABSTRACT_x  \\\n",
       "1298535  We use the Onsager principle to derive a two-p...   \n",
       "1298538  We present molecular dynamics calculations of ...   \n",
       "1298540  The coupled activated dynamics in dense mixtur...   \n",
       "1298537  We evaluate theoretical expressions for the lo...   \n",
       "1298536  This paper addresses the relative viscosity of...   \n",
       "...                                                    ...   \n",
       "4931133  Magnetically induced reorientation (MIR) of tw...   \n",
       "4931134  Classical isometrodynamics is quantized in the...   \n",
       "4931135  In many applications one is interested in find...   \n",
       "4931140  The Blumlein pulse forming line (BPFL) consist...   \n",
       "4931142  It is recently claimed by Nekrasov and Shatash...   \n",
       "\n",
       "                                                ABSTRACT_y  \n",
       "1298535  Simple expressions are given for the Newtonian...  \n",
       "1298538  Simple expressions are given for the Newtonian...  \n",
       "1298540  Simple expressions are given for the Newtonian...  \n",
       "1298537  Simple expressions are given for the Newtonian...  \n",
       "1298536  Simple expressions are given for the Newtonian...  \n",
       "...                                                    ...  \n",
       "4931133  This is an in situ measurement of the full str...  \n",
       "4931134  A generalization of non-Abelian gauge theories...  \n",
       "4931135  The problem of estimating a Markov transition ...  \n",
       "4931140  The flat voltage of the main pulse on the load...  \n",
       "4931142  We study the relation between the N = 2 gauge ...  \n",
       "\n",
       "[905529 rows x 6 columns]"
      ]
     },
     "execution_count": 19,
     "metadata": {},
     "output_type": "execute_result"
    }
   ],
   "source": [
    "cit.merge(abstracts, left_on=\"CITING_DOI\", right_index=True).merge(abstracts, left_on=\"CITED_DOI\", right_index=True)"
   ]
  },
  {
   "cell_type": "code",
   "execution_count": 20,
   "metadata": {},
   "outputs": [],
   "source": [
    "cit_abs = cit.merge(abstracts, left_on=\"CITING_DOI\", right_index=True).merge(abstracts, left_on=\"CITED_DOI\", right_index=True)"
   ]
  },
  {
   "cell_type": "code",
   "execution_count": 21,
   "metadata": {},
   "outputs": [],
   "source": [
    "cit_abs = cit_abs.rename(columns={\"ABSTRACT_x\": \"CITING_ABSTRACT\", \"ABSTRACT_y\": \"CITED_ABSTRACT\"})"
   ]
  },
  {
   "cell_type": "code",
   "execution_count": 22,
   "metadata": {},
   "outputs": [
    {
     "data": {
      "text/plain": [
       "0.18363470700403536"
      ]
     },
     "execution_count": 22,
     "metadata": {},
     "output_type": "execute_result"
    }
   ],
   "source": [
    "len(cit_abs)/len(cit)"
   ]
  },
  {
   "cell_type": "code",
   "execution_count": 23,
   "metadata": {},
   "outputs": [],
   "source": [
    "cit_abs_2010 = cit_abs[cit_abs.CITING_YEAR == 2010]"
   ]
  },
  {
   "cell_type": "code",
   "execution_count": 24,
   "metadata": {},
   "outputs": [
    {
     "data": {
      "text/plain": [
       "172258"
      ]
     },
     "execution_count": 24,
     "metadata": {},
     "output_type": "execute_result"
    }
   ],
   "source": [
    "len(cit_abs_2010)"
   ]
  },
  {
   "cell_type": "code",
   "execution_count": null,
   "metadata": {},
   "outputs": [],
   "source": []
  },
  {
   "cell_type": "markdown",
   "metadata": {},
   "source": [
    "# Generate graph\n",
    "\n",
    "1. Create citation network G of APS papers published **up to** 2010\n",
    "2. Sample negative edges: sample x% of negative citing edges from 2010 papers\n",
    "3. Sample existing edges where the citing paper was publised _in_ 2010\n",
    "5. Get largest connected component, and final list of added/removed edges"
   ]
  },
  {
   "cell_type": "code",
   "execution_count": 25,
   "metadata": {},
   "outputs": [],
   "source": [
    "G = nx.DiGraph()\n",
    "G.add_edges_from(cit_abs[[\"CITING_DOI\", \"CITED_DOI\"]].values)"
   ]
  },
  {
   "cell_type": "code",
   "execution_count": 26,
   "metadata": {},
   "outputs": [
    {
     "data": {
      "text/plain": [
       "153731"
      ]
     },
     "execution_count": 26,
     "metadata": {},
     "output_type": "execute_result"
    }
   ],
   "source": [
    "len(G.nodes())"
   ]
  },
  {
   "cell_type": "code",
   "execution_count": 27,
   "metadata": {},
   "outputs": [
    {
     "data": {
      "text/plain": [
       "153731"
      ]
     },
     "execution_count": 27,
     "metadata": {},
     "output_type": "execute_result"
    }
   ],
   "source": [
    "len(cit_abs.CITING_DOI.append(cit_abs.CITED_DOI).unique())"
   ]
  },
  {
   "cell_type": "code",
   "execution_count": 28,
   "metadata": {},
   "outputs": [
    {
     "data": {
      "text/plain": [
       "905529"
      ]
     },
     "execution_count": 28,
     "metadata": {},
     "output_type": "execute_result"
    }
   ],
   "source": [
    "len(G.edges())"
   ]
  },
  {
   "cell_type": "code",
   "execution_count": 29,
   "metadata": {},
   "outputs": [
    {
     "data": {
      "text/plain": [
       "905529"
      ]
     },
     "execution_count": 29,
     "metadata": {},
     "output_type": "execute_result"
    }
   ],
   "source": [
    "len(cit_abs.drop_duplicates(subset=[\"CITING_DOI\", \"CITED_DOI\"]))"
   ]
  },
  {
   "cell_type": "code",
   "execution_count": 30,
   "metadata": {},
   "outputs": [],
   "source": [
    "REMOVE_EDGE_PCT = 0.5\n",
    "REMOVE_EDGE_NO = int(len(cit_abs_2010) * REMOVE_EDGE_PCT)"
   ]
  },
  {
   "cell_type": "code",
   "execution_count": 31,
   "metadata": {},
   "outputs": [
    {
     "data": {
      "text/plain": [
       "86129"
      ]
     },
     "execution_count": 31,
     "metadata": {},
     "output_type": "execute_result"
    }
   ],
   "source": [
    "REMOVE_EDGE_NO"
   ]
  },
  {
   "cell_type": "markdown",
   "metadata": {},
   "source": [
    "## Remove true edges"
   ]
  },
  {
   "cell_type": "code",
   "execution_count": 32,
   "metadata": {},
   "outputs": [],
   "source": [
    "to_remove = cit_abs_2010.sample(REMOVE_EDGE_NO)"
   ]
  },
  {
   "cell_type": "code",
   "execution_count": 33,
   "metadata": {},
   "outputs": [
    {
     "data": {
      "text/plain": [
       "86129"
      ]
     },
     "execution_count": 33,
     "metadata": {},
     "output_type": "execute_result"
    }
   ],
   "source": [
    "len(to_remove)"
   ]
  },
  {
   "cell_type": "markdown",
   "metadata": {},
   "source": [
    "### Check removed nodes/edges"
   ]
  },
  {
   "cell_type": "code",
   "execution_count": 34,
   "metadata": {},
   "outputs": [
    {
     "data": {
      "text/html": [
       "<div>\n",
       "<style scoped>\n",
       "    .dataframe tbody tr th:only-of-type {\n",
       "        vertical-align: middle;\n",
       "    }\n",
       "\n",
       "    .dataframe tbody tr th {\n",
       "        vertical-align: top;\n",
       "    }\n",
       "\n",
       "    .dataframe thead th {\n",
       "        text-align: right;\n",
       "    }\n",
       "</style>\n",
       "<table border=\"1\" class=\"dataframe\">\n",
       "  <thead>\n",
       "    <tr style=\"text-align: right;\">\n",
       "      <th></th>\n",
       "      <th>CITING_DOI</th>\n",
       "      <th>CITED_DOI</th>\n",
       "      <th>CITING_YEAR</th>\n",
       "      <th>CITED_YEAR</th>\n",
       "      <th>CITING_ABSTRACT</th>\n",
       "      <th>CITED_ABSTRACT</th>\n",
       "    </tr>\n",
       "  </thead>\n",
       "  <tbody>\n",
       "    <tr>\n",
       "      <th>1298536</th>\n",
       "      <td>10.1103/PhysRevE.81.051402</td>\n",
       "      <td>10.1103/PhysRevE.55.3143</td>\n",
       "      <td>2010</td>\n",
       "      <td>1997</td>\n",
       "      <td>This paper addresses the relative viscosity of...</td>\n",
       "      <td>Simple expressions are given for the Newtonian...</td>\n",
       "    </tr>\n",
       "    <tr>\n",
       "      <th>1298562</th>\n",
       "      <td>10.1103/PhysRevE.81.011403</td>\n",
       "      <td>10.1103/PhysRevE.65.041405</td>\n",
       "      <td>2010</td>\n",
       "      <td>2002</td>\n",
       "      <td>The rheology of dense amorphous materials unde...</td>\n",
       "      <td>Measurements of the low-shear viscosity eta(o)...</td>\n",
       "    </tr>\n",
       "    <tr>\n",
       "      <th>1298558</th>\n",
       "      <td>10.1103/PhysRevE.81.051402</td>\n",
       "      <td>10.1103/PhysRevE.65.041405</td>\n",
       "      <td>2010</td>\n",
       "      <td>2002</td>\n",
       "      <td>This paper addresses the relative viscosity of...</td>\n",
       "      <td>Measurements of the low-shear viscosity eta(o)...</td>\n",
       "    </tr>\n",
       "    <tr>\n",
       "      <th>369065</th>\n",
       "      <td>10.1103/PhysRevB.81.081407</td>\n",
       "      <td>10.1103/PhysRevB.49.14251</td>\n",
       "      <td>2010</td>\n",
       "      <td>1994</td>\n",
       "      <td>We present first-principles calculations of el...</td>\n",
       "      <td>We present ab initio quantum-mechanical molecu...</td>\n",
       "    </tr>\n",
       "    <tr>\n",
       "      <th>368827</th>\n",
       "      <td>10.1103/PhysRevB.82.235423</td>\n",
       "      <td>10.1103/PhysRevB.49.14251</td>\n",
       "      <td>2010</td>\n",
       "      <td>1994</td>\n",
       "      <td>We demonstrate from density-functional theory ...</td>\n",
       "      <td>We present ab initio quantum-mechanical molecu...</td>\n",
       "    </tr>\n",
       "    <tr>\n",
       "      <th>...</th>\n",
       "      <td>...</td>\n",
       "      <td>...</td>\n",
       "      <td>...</td>\n",
       "      <td>...</td>\n",
       "      <td>...</td>\n",
       "      <td>...</td>\n",
       "    </tr>\n",
       "    <tr>\n",
       "      <th>4931132</th>\n",
       "      <td>10.1103/PhysRevSTAB.13.104402</td>\n",
       "      <td>10.1103/PhysRevSTAB.12.061002</td>\n",
       "      <td>2010</td>\n",
       "      <td>2009</td>\n",
       "      <td>We use a Vlasov-Fokker-Planck program and a li...</td>\n",
       "      <td>Microwave instability in the low energy ring o...</td>\n",
       "    </tr>\n",
       "    <tr>\n",
       "      <th>4931133</th>\n",
       "      <td>10.1103/PhysRevB.81.054406</td>\n",
       "      <td>10.1103/PhysRevB.80.024113</td>\n",
       "      <td>2010</td>\n",
       "      <td>2009</td>\n",
       "      <td>Magnetically induced reorientation (MIR) of tw...</td>\n",
       "      <td>This is an in situ measurement of the full str...</td>\n",
       "    </tr>\n",
       "    <tr>\n",
       "      <th>4931135</th>\n",
       "      <td>10.1103/PhysRevE.82.031114</td>\n",
       "      <td>10.1103/PhysRevE.80.021106</td>\n",
       "      <td>2010</td>\n",
       "      <td>2009</td>\n",
       "      <td>In many applications one is interested in find...</td>\n",
       "      <td>The problem of estimating a Markov transition ...</td>\n",
       "    </tr>\n",
       "    <tr>\n",
       "      <th>4931140</th>\n",
       "      <td>10.1103/PhysRevSTAB.13.070402</td>\n",
       "      <td>10.1103/PhysRevSTAB.12.110401</td>\n",
       "      <td>2010</td>\n",
       "      <td>2009</td>\n",
       "      <td>The Blumlein pulse forming line (BPFL) consist...</td>\n",
       "      <td>The flat voltage of the main pulse on the load...</td>\n",
       "    </tr>\n",
       "    <tr>\n",
       "      <th>4931142</th>\n",
       "      <td>10.1103/PhysRevD.82.025020</td>\n",
       "      <td>10.1103/PhysRevD.81.105017</td>\n",
       "      <td>2010</td>\n",
       "      <td>2010</td>\n",
       "      <td>It is recently claimed by Nekrasov and Shatash...</td>\n",
       "      <td>We study the relation between the N = 2 gauge ...</td>\n",
       "    </tr>\n",
       "  </tbody>\n",
       "</table>\n",
       "<p>172258 rows × 6 columns</p>\n",
       "</div>"
      ],
      "text/plain": [
       "                            CITING_DOI                      CITED_DOI  \\\n",
       "1298536     10.1103/PhysRevE.81.051402       10.1103/PhysRevE.55.3143   \n",
       "1298562     10.1103/PhysRevE.81.011403     10.1103/PhysRevE.65.041405   \n",
       "1298558     10.1103/PhysRevE.81.051402     10.1103/PhysRevE.65.041405   \n",
       "369065      10.1103/PhysRevB.81.081407      10.1103/PhysRevB.49.14251   \n",
       "368827      10.1103/PhysRevB.82.235423      10.1103/PhysRevB.49.14251   \n",
       "...                                ...                            ...   \n",
       "4931132  10.1103/PhysRevSTAB.13.104402  10.1103/PhysRevSTAB.12.061002   \n",
       "4931133     10.1103/PhysRevB.81.054406     10.1103/PhysRevB.80.024113   \n",
       "4931135     10.1103/PhysRevE.82.031114     10.1103/PhysRevE.80.021106   \n",
       "4931140  10.1103/PhysRevSTAB.13.070402  10.1103/PhysRevSTAB.12.110401   \n",
       "4931142     10.1103/PhysRevD.82.025020     10.1103/PhysRevD.81.105017   \n",
       "\n",
       "         CITING_YEAR  CITED_YEAR  \\\n",
       "1298536         2010        1997   \n",
       "1298562         2010        2002   \n",
       "1298558         2010        2002   \n",
       "369065          2010        1994   \n",
       "368827          2010        1994   \n",
       "...              ...         ...   \n",
       "4931132         2010        2009   \n",
       "4931133         2010        2009   \n",
       "4931135         2010        2009   \n",
       "4931140         2010        2009   \n",
       "4931142         2010        2010   \n",
       "\n",
       "                                           CITING_ABSTRACT  \\\n",
       "1298536  This paper addresses the relative viscosity of...   \n",
       "1298562  The rheology of dense amorphous materials unde...   \n",
       "1298558  This paper addresses the relative viscosity of...   \n",
       "369065   We present first-principles calculations of el...   \n",
       "368827   We demonstrate from density-functional theory ...   \n",
       "...                                                    ...   \n",
       "4931132  We use a Vlasov-Fokker-Planck program and a li...   \n",
       "4931133  Magnetically induced reorientation (MIR) of tw...   \n",
       "4931135  In many applications one is interested in find...   \n",
       "4931140  The Blumlein pulse forming line (BPFL) consist...   \n",
       "4931142  It is recently claimed by Nekrasov and Shatash...   \n",
       "\n",
       "                                            CITED_ABSTRACT  \n",
       "1298536  Simple expressions are given for the Newtonian...  \n",
       "1298562  Measurements of the low-shear viscosity eta(o)...  \n",
       "1298558  Measurements of the low-shear viscosity eta(o)...  \n",
       "369065   We present ab initio quantum-mechanical molecu...  \n",
       "368827   We present ab initio quantum-mechanical molecu...  \n",
       "...                                                    ...  \n",
       "4931132  Microwave instability in the low energy ring o...  \n",
       "4931133  This is an in situ measurement of the full str...  \n",
       "4931135  The problem of estimating a Markov transition ...  \n",
       "4931140  The flat voltage of the main pulse on the load...  \n",
       "4931142  We study the relation between the N = 2 gauge ...  \n",
       "\n",
       "[172258 rows x 6 columns]"
      ]
     },
     "execution_count": 34,
     "metadata": {},
     "output_type": "execute_result"
    }
   ],
   "source": [
    "cit_abs_2010"
   ]
  },
  {
   "cell_type": "code",
   "execution_count": 35,
   "metadata": {},
   "outputs": [
    {
     "data": {
      "text/html": [
       "<div>\n",
       "<style scoped>\n",
       "    .dataframe tbody tr th:only-of-type {\n",
       "        vertical-align: middle;\n",
       "    }\n",
       "\n",
       "    .dataframe tbody tr th {\n",
       "        vertical-align: top;\n",
       "    }\n",
       "\n",
       "    .dataframe thead th {\n",
       "        text-align: right;\n",
       "    }\n",
       "</style>\n",
       "<table border=\"1\" class=\"dataframe\">\n",
       "  <thead>\n",
       "    <tr style=\"text-align: right;\">\n",
       "      <th></th>\n",
       "      <th>CITING_DOI</th>\n",
       "      <th>CITED_DOI</th>\n",
       "      <th>CITING_YEAR</th>\n",
       "      <th>CITED_YEAR</th>\n",
       "      <th>CITING_ABSTRACT</th>\n",
       "      <th>CITED_ABSTRACT</th>\n",
       "    </tr>\n",
       "  </thead>\n",
       "  <tbody>\n",
       "    <tr>\n",
       "      <th>3507987</th>\n",
       "      <td>10.1103/PhysRevE.82.046707</td>\n",
       "      <td>10.1103/PhysRevB.80.024422</td>\n",
       "      <td>2010</td>\n",
       "      <td>2009</td>\n",
       "      <td>We discuss methods that allow us to increase t...</td>\n",
       "      <td>We have investigated the phase transition in t...</td>\n",
       "    </tr>\n",
       "    <tr>\n",
       "      <th>2106653</th>\n",
       "      <td>10.1103/PhysRevD.81.043001</td>\n",
       "      <td>10.1103/PhysRevLett.102.231301</td>\n",
       "      <td>2010</td>\n",
       "      <td>2009</td>\n",
       "      <td>We consider the diffeomorphism invariant gravi...</td>\n",
       "      <td>We study primordial gravitational waves produc...</td>\n",
       "    </tr>\n",
       "    <tr>\n",
       "      <th>4924224</th>\n",
       "      <td>10.1103/PhysRevB.81.241304</td>\n",
       "      <td>10.1103/PhysRevB.78.054107</td>\n",
       "      <td>2010</td>\n",
       "      <td>2008</td>\n",
       "      <td>PbSe quantum dots with sizes of 2.8(1), 3.7(1)...</td>\n",
       "      <td>Understanding the loss of ferroelectricity in ...</td>\n",
       "    </tr>\n",
       "    <tr>\n",
       "      <th>3363322</th>\n",
       "      <td>10.1103/PhysRevB.82.035446</td>\n",
       "      <td>10.1103/PhysRevB.76.085330</td>\n",
       "      <td>2010</td>\n",
       "      <td>2007</td>\n",
       "      <td>We theoretically investigate the time-dependen...</td>\n",
       "      <td>We investigate nonstationary electronic transp...</td>\n",
       "    </tr>\n",
       "    <tr>\n",
       "      <th>3073063</th>\n",
       "      <td>10.1103/PhysRevA.81.053823</td>\n",
       "      <td>10.1103/PhysRevLett.101.043901</td>\n",
       "      <td>2010</td>\n",
       "      <td>2008</td>\n",
       "      <td>There has been a surge of interest in the subw...</td>\n",
       "      <td>Here we explore the radiation features of opti...</td>\n",
       "    </tr>\n",
       "    <tr>\n",
       "      <th>...</th>\n",
       "      <td>...</td>\n",
       "      <td>...</td>\n",
       "      <td>...</td>\n",
       "      <td>...</td>\n",
       "      <td>...</td>\n",
       "      <td>...</td>\n",
       "    </tr>\n",
       "    <tr>\n",
       "      <th>681175</th>\n",
       "      <td>10.1103/PhysRevB.81.115131</td>\n",
       "      <td>10.1103/PhysRevE.81.036206</td>\n",
       "      <td>2010</td>\n",
       "      <td>2010</td>\n",
       "      <td>We use nonequilibrium dynamical mean-field the...</td>\n",
       "      <td>By means of full exact diagonalization, we stu...</td>\n",
       "    </tr>\n",
       "    <tr>\n",
       "      <th>1756055</th>\n",
       "      <td>10.1103/PhysRevB.81.060505</td>\n",
       "      <td>10.1103/PhysRevLett.102.147001</td>\n",
       "      <td>2010</td>\n",
       "      <td>2009</td>\n",
       "      <td>The London penetration depth, lambda, is direc...</td>\n",
       "      <td>In several iron-arsenide superconductors there...</td>\n",
       "    </tr>\n",
       "    <tr>\n",
       "      <th>4333531</th>\n",
       "      <td>10.1103/PhysRevD.81.054005</td>\n",
       "      <td>10.1103/PhysRevD.65.074021</td>\n",
       "      <td>2010</td>\n",
       "      <td>2002</td>\n",
       "      <td>We study the finite temperature behavior of li...</td>\n",
       "      <td>Chiral quark models with nonlocal covariant se...</td>\n",
       "    </tr>\n",
       "    <tr>\n",
       "      <th>556796</th>\n",
       "      <td>10.1103/PhysRevA.82.023424</td>\n",
       "      <td>10.1103/PhysRevLett.100.013903</td>\n",
       "      <td>2010</td>\n",
       "      <td>2008</td>\n",
       "      <td>The experimental finding of significant enhanc...</td>\n",
       "      <td>By analyzing accurate theoretical results from...</td>\n",
       "    </tr>\n",
       "    <tr>\n",
       "      <th>3847235</th>\n",
       "      <td>10.1103/PhysRevB.81.205413</td>\n",
       "      <td>10.1103/PhysRevB.59.7937</td>\n",
       "      <td>2010</td>\n",
       "      <td>1999</td>\n",
       "      <td>The effect of a Coulombic coupling on the dyna...</td>\n",
       "      <td>Using bosonization and path-integral methods, ...</td>\n",
       "    </tr>\n",
       "  </tbody>\n",
       "</table>\n",
       "<p>86129 rows × 6 columns</p>\n",
       "</div>"
      ],
      "text/plain": [
       "                         CITING_DOI                       CITED_DOI  \\\n",
       "3507987  10.1103/PhysRevE.82.046707      10.1103/PhysRevB.80.024422   \n",
       "2106653  10.1103/PhysRevD.81.043001  10.1103/PhysRevLett.102.231301   \n",
       "4924224  10.1103/PhysRevB.81.241304      10.1103/PhysRevB.78.054107   \n",
       "3363322  10.1103/PhysRevB.82.035446      10.1103/PhysRevB.76.085330   \n",
       "3073063  10.1103/PhysRevA.81.053823  10.1103/PhysRevLett.101.043901   \n",
       "...                             ...                             ...   \n",
       "681175   10.1103/PhysRevB.81.115131      10.1103/PhysRevE.81.036206   \n",
       "1756055  10.1103/PhysRevB.81.060505  10.1103/PhysRevLett.102.147001   \n",
       "4333531  10.1103/PhysRevD.81.054005      10.1103/PhysRevD.65.074021   \n",
       "556796   10.1103/PhysRevA.82.023424  10.1103/PhysRevLett.100.013903   \n",
       "3847235  10.1103/PhysRevB.81.205413        10.1103/PhysRevB.59.7937   \n",
       "\n",
       "         CITING_YEAR  CITED_YEAR  \\\n",
       "3507987         2010        2009   \n",
       "2106653         2010        2009   \n",
       "4924224         2010        2008   \n",
       "3363322         2010        2007   \n",
       "3073063         2010        2008   \n",
       "...              ...         ...   \n",
       "681175          2010        2010   \n",
       "1756055         2010        2009   \n",
       "4333531         2010        2002   \n",
       "556796          2010        2008   \n",
       "3847235         2010        1999   \n",
       "\n",
       "                                           CITING_ABSTRACT  \\\n",
       "3507987  We discuss methods that allow us to increase t...   \n",
       "2106653  We consider the diffeomorphism invariant gravi...   \n",
       "4924224  PbSe quantum dots with sizes of 2.8(1), 3.7(1)...   \n",
       "3363322  We theoretically investigate the time-dependen...   \n",
       "3073063  There has been a surge of interest in the subw...   \n",
       "...                                                    ...   \n",
       "681175   We use nonequilibrium dynamical mean-field the...   \n",
       "1756055  The London penetration depth, lambda, is direc...   \n",
       "4333531  We study the finite temperature behavior of li...   \n",
       "556796   The experimental finding of significant enhanc...   \n",
       "3847235  The effect of a Coulombic coupling on the dyna...   \n",
       "\n",
       "                                            CITED_ABSTRACT  \n",
       "3507987  We have investigated the phase transition in t...  \n",
       "2106653  We study primordial gravitational waves produc...  \n",
       "4924224  Understanding the loss of ferroelectricity in ...  \n",
       "3363322  We investigate nonstationary electronic transp...  \n",
       "3073063  Here we explore the radiation features of opti...  \n",
       "...                                                    ...  \n",
       "681175   By means of full exact diagonalization, we stu...  \n",
       "1756055  In several iron-arsenide superconductors there...  \n",
       "4333531  Chiral quark models with nonlocal covariant se...  \n",
       "556796   By analyzing accurate theoretical results from...  \n",
       "3847235  Using bosonization and path-integral methods, ...  \n",
       "\n",
       "[86129 rows x 6 columns]"
      ]
     },
     "execution_count": 35,
     "metadata": {},
     "output_type": "execute_result"
    }
   ],
   "source": [
    "to_remove"
   ]
  },
  {
   "cell_type": "markdown",
   "metadata": {},
   "source": [
    "### Remove edges from graph"
   ]
  },
  {
   "cell_type": "code",
   "execution_count": 36,
   "metadata": {},
   "outputs": [],
   "source": [
    "Gr = G.copy()\n",
    "Gr.remove_edges_from(to_remove[[\"CITING_DOI\", \"CITED_DOI\"]].values)"
   ]
  },
  {
   "cell_type": "code",
   "execution_count": 37,
   "metadata": {},
   "outputs": [
    {
     "data": {
      "text/plain": [
       "86129"
      ]
     },
     "execution_count": 37,
     "metadata": {},
     "output_type": "execute_result"
    }
   ],
   "source": [
    "len(G.edges()) - len(Gr.edges())"
   ]
  },
  {
   "cell_type": "markdown",
   "metadata": {},
   "source": [
    "## Check largest CC"
   ]
  },
  {
   "cell_type": "code",
   "execution_count": 38,
   "metadata": {},
   "outputs": [
    {
     "data": {
      "text/plain": [
       "150489"
      ]
     },
     "execution_count": 38,
     "metadata": {},
     "output_type": "execute_result"
    }
   ],
   "source": [
    "len(max(nx.weakly_connected_components(Gr), key=len))"
   ]
  },
  {
   "cell_type": "code",
   "execution_count": 39,
   "metadata": {},
   "outputs": [
    {
     "data": {
      "text/plain": [
       "153731"
      ]
     },
     "execution_count": 39,
     "metadata": {},
     "output_type": "execute_result"
    }
   ],
   "source": [
    "len(G.nodes())"
   ]
  },
  {
   "cell_type": "code",
   "execution_count": 40,
   "metadata": {},
   "outputs": [
    {
     "data": {
      "text/plain": [
       "905529"
      ]
     },
     "execution_count": 40,
     "metadata": {},
     "output_type": "execute_result"
    }
   ],
   "source": [
    "len(G.edges())"
   ]
  },
  {
   "cell_type": "code",
   "execution_count": 41,
   "metadata": {},
   "outputs": [],
   "source": [
    "Gcc = Gr.subgraph(max(nx.weakly_connected_components(Gr), key=len)).copy()"
   ]
  },
  {
   "cell_type": "code",
   "execution_count": 42,
   "metadata": {},
   "outputs": [
    {
     "data": {
      "text/plain": [
       "150489"
      ]
     },
     "execution_count": 42,
     "metadata": {},
     "output_type": "execute_result"
    }
   ],
   "source": [
    "len(Gcc.nodes())"
   ]
  },
  {
   "cell_type": "code",
   "execution_count": 43,
   "metadata": {},
   "outputs": [
    {
     "data": {
      "text/plain": [
       "818022"
      ]
     },
     "execution_count": 43,
     "metadata": {},
     "output_type": "execute_result"
    }
   ],
   "source": [
    "len(Gcc.edges())"
   ]
  },
  {
   "cell_type": "code",
   "execution_count": 44,
   "metadata": {},
   "outputs": [
    {
     "data": {
      "text/plain": [
       "153731"
      ]
     },
     "execution_count": 44,
     "metadata": {},
     "output_type": "execute_result"
    }
   ],
   "source": [
    "len(Gr.nodes())"
   ]
  },
  {
   "cell_type": "code",
   "execution_count": 45,
   "metadata": {},
   "outputs": [
    {
     "data": {
      "text/plain": [
       "819400"
      ]
     },
     "execution_count": 45,
     "metadata": {},
     "output_type": "execute_result"
    }
   ],
   "source": [
    "len(Gr.edges())"
   ]
  },
  {
   "cell_type": "markdown",
   "metadata": {},
   "source": [
    "**let's use the full graph with removed edges (not the GCC)**"
   ]
  },
  {
   "cell_type": "markdown",
   "metadata": {},
   "source": [
    "# Final list of edges"
   ]
  },
  {
   "cell_type": "raw",
   "metadata": {},
   "source": [
    "removed_edges = list(set(G.edges()) - set(Gcc.edges())) # edges that are in the true network but not in the one we'll use for link prediction"
   ]
  },
  {
   "cell_type": "raw",
   "metadata": {},
   "source": [
    "len(removed_edges)"
   ]
  },
  {
   "cell_type": "raw",
   "metadata": {},
   "source": [
    "removed_edges = pd.DataFrame(data=removed_edges, columns=[\"CITING_DOI\",\"CITED_DOI\"])"
   ]
  },
  {
   "cell_type": "raw",
   "metadata": {},
   "source": [
    "to_remove.merge(removed_edges)"
   ]
  },
  {
   "cell_type": "raw",
   "metadata": {},
   "source": [
    "to_remove"
   ]
  },
  {
   "cell_type": "code",
   "execution_count": 46,
   "metadata": {},
   "outputs": [],
   "source": [
    "to_remove = to_remove.drop(labels=[\"CITING_YEAR\", \"CITED_YEAR\"], axis=1)"
   ]
  },
  {
   "cell_type": "code",
   "execution_count": 47,
   "metadata": {},
   "outputs": [],
   "source": [
    "#for_embed = pd.DataFrame(list(Gcc.edges()), columns=[\"CITING_DOI\",\"CITED_DOI\"])\n",
    "for_embed = pd.DataFrame(list(Gr.edges()), columns=[\"CITING_DOI\",\"CITED_DOI\"])"
   ]
  },
  {
   "cell_type": "code",
   "execution_count": 48,
   "metadata": {},
   "outputs": [
    {
     "data": {
      "text/html": [
       "<div>\n",
       "<style scoped>\n",
       "    .dataframe tbody tr th:only-of-type {\n",
       "        vertical-align: middle;\n",
       "    }\n",
       "\n",
       "    .dataframe tbody tr th {\n",
       "        vertical-align: top;\n",
       "    }\n",
       "\n",
       "    .dataframe thead th {\n",
       "        text-align: right;\n",
       "    }\n",
       "</style>\n",
       "<table border=\"1\" class=\"dataframe\">\n",
       "  <thead>\n",
       "    <tr style=\"text-align: right;\">\n",
       "      <th></th>\n",
       "      <th>CITING_DOI</th>\n",
       "      <th>CITED_DOI</th>\n",
       "    </tr>\n",
       "  </thead>\n",
       "  <tbody>\n",
       "    <tr>\n",
       "      <th>0</th>\n",
       "      <td>10.1103/PhysRevLett.101.194503</td>\n",
       "      <td>10.1103/PhysRevE.55.3143</td>\n",
       "    </tr>\n",
       "    <tr>\n",
       "      <th>1</th>\n",
       "      <td>10.1103/PhysRevLett.101.194503</td>\n",
       "      <td>10.1103/PhysRevE.65.041405</td>\n",
       "    </tr>\n",
       "    <tr>\n",
       "      <th>2</th>\n",
       "      <td>10.1103/PhysRevE.55.3143</td>\n",
       "      <td>10.1103/PhysRevA.46.7723</td>\n",
       "    </tr>\n",
       "    <tr>\n",
       "      <th>3</th>\n",
       "      <td>10.1103/PhysRevE.75.031201</td>\n",
       "      <td>10.1103/PhysRevE.55.3143</td>\n",
       "    </tr>\n",
       "    <tr>\n",
       "      <th>4</th>\n",
       "      <td>10.1103/PhysRevE.75.031201</td>\n",
       "      <td>10.1103/PhysRevLett.94.025901</td>\n",
       "    </tr>\n",
       "    <tr>\n",
       "      <th>...</th>\n",
       "      <td>...</td>\n",
       "      <td>...</td>\n",
       "    </tr>\n",
       "    <tr>\n",
       "      <th>819395</th>\n",
       "      <td>10.1103/PhysRevSTAB.13.104402</td>\n",
       "      <td>10.1103/PhysRevSTAB.12.061002</td>\n",
       "    </tr>\n",
       "    <tr>\n",
       "      <th>819396</th>\n",
       "      <td>10.1103/PhysRevB.81.054406</td>\n",
       "      <td>10.1103/PhysRevB.80.024113</td>\n",
       "    </tr>\n",
       "    <tr>\n",
       "      <th>819397</th>\n",
       "      <td>10.1103/PhysRevD.80.025019</td>\n",
       "      <td>10.1103/PhysRevD.80.025018</td>\n",
       "    </tr>\n",
       "    <tr>\n",
       "      <th>819398</th>\n",
       "      <td>10.1103/PhysRevSTAB.13.070402</td>\n",
       "      <td>10.1103/PhysRevSTAB.12.110401</td>\n",
       "    </tr>\n",
       "    <tr>\n",
       "      <th>819399</th>\n",
       "      <td>10.1103/PhysRevD.82.025020</td>\n",
       "      <td>10.1103/PhysRevD.81.105017</td>\n",
       "    </tr>\n",
       "  </tbody>\n",
       "</table>\n",
       "<p>819400 rows × 2 columns</p>\n",
       "</div>"
      ],
      "text/plain": [
       "                            CITING_DOI                      CITED_DOI\n",
       "0       10.1103/PhysRevLett.101.194503       10.1103/PhysRevE.55.3143\n",
       "1       10.1103/PhysRevLett.101.194503     10.1103/PhysRevE.65.041405\n",
       "2             10.1103/PhysRevE.55.3143       10.1103/PhysRevA.46.7723\n",
       "3           10.1103/PhysRevE.75.031201       10.1103/PhysRevE.55.3143\n",
       "4           10.1103/PhysRevE.75.031201  10.1103/PhysRevLett.94.025901\n",
       "...                                ...                            ...\n",
       "819395   10.1103/PhysRevSTAB.13.104402  10.1103/PhysRevSTAB.12.061002\n",
       "819396      10.1103/PhysRevB.81.054406     10.1103/PhysRevB.80.024113\n",
       "819397      10.1103/PhysRevD.80.025019     10.1103/PhysRevD.80.025018\n",
       "819398   10.1103/PhysRevSTAB.13.070402  10.1103/PhysRevSTAB.12.110401\n",
       "819399      10.1103/PhysRevD.82.025020     10.1103/PhysRevD.81.105017\n",
       "\n",
       "[819400 rows x 2 columns]"
      ]
     },
     "execution_count": 48,
     "metadata": {},
     "output_type": "execute_result"
    }
   ],
   "source": [
    "for_embed"
   ]
  },
  {
   "cell_type": "code",
   "execution_count": 49,
   "metadata": {},
   "outputs": [
    {
     "data": {
      "text/html": [
       "<div>\n",
       "<style scoped>\n",
       "    .dataframe tbody tr th:only-of-type {\n",
       "        vertical-align: middle;\n",
       "    }\n",
       "\n",
       "    .dataframe tbody tr th {\n",
       "        vertical-align: top;\n",
       "    }\n",
       "\n",
       "    .dataframe thead th {\n",
       "        text-align: right;\n",
       "    }\n",
       "</style>\n",
       "<table border=\"1\" class=\"dataframe\">\n",
       "  <thead>\n",
       "    <tr style=\"text-align: right;\">\n",
       "      <th></th>\n",
       "      <th>CITING_DOI</th>\n",
       "      <th>CITED_DOI</th>\n",
       "      <th>CITING_ABSTRACT</th>\n",
       "      <th>CITED_ABSTRACT</th>\n",
       "    </tr>\n",
       "  </thead>\n",
       "  <tbody>\n",
       "    <tr>\n",
       "      <th>0</th>\n",
       "      <td>10.1103/PhysRevLett.101.194503</td>\n",
       "      <td>10.1103/PhysRevE.55.3143</td>\n",
       "      <td>We use the Onsager principle to derive a two-p...</td>\n",
       "      <td>Simple expressions are given for the Newtonian...</td>\n",
       "    </tr>\n",
       "    <tr>\n",
       "      <th>1</th>\n",
       "      <td>10.1103/PhysRevLett.101.194503</td>\n",
       "      <td>10.1103/PhysRevE.65.041405</td>\n",
       "      <td>We use the Onsager principle to derive a two-p...</td>\n",
       "      <td>Measurements of the low-shear viscosity eta(o)...</td>\n",
       "    </tr>\n",
       "    <tr>\n",
       "      <th>2</th>\n",
       "      <td>10.1103/PhysRevE.55.3143</td>\n",
       "      <td>10.1103/PhysRevA.46.7723</td>\n",
       "      <td>Simple expressions are given for the Newtonian...</td>\n",
       "      <td>We develop a phenomenological theory of the dy...</td>\n",
       "    </tr>\n",
       "    <tr>\n",
       "      <th>3</th>\n",
       "      <td>10.1103/PhysRevE.75.031201</td>\n",
       "      <td>10.1103/PhysRevE.55.3143</td>\n",
       "      <td>We present molecular dynamics calculations of ...</td>\n",
       "      <td>Simple expressions are given for the Newtonian...</td>\n",
       "    </tr>\n",
       "    <tr>\n",
       "      <th>4</th>\n",
       "      <td>10.1103/PhysRevE.75.031201</td>\n",
       "      <td>10.1103/PhysRevLett.94.025901</td>\n",
       "      <td>We present molecular dynamics calculations of ...</td>\n",
       "      <td>Researchers have been perplexed for the past f...</td>\n",
       "    </tr>\n",
       "    <tr>\n",
       "      <th>...</th>\n",
       "      <td>...</td>\n",
       "      <td>...</td>\n",
       "      <td>...</td>\n",
       "      <td>...</td>\n",
       "    </tr>\n",
       "    <tr>\n",
       "      <th>819395</th>\n",
       "      <td>10.1103/PhysRevSTAB.13.104402</td>\n",
       "      <td>10.1103/PhysRevSTAB.12.061002</td>\n",
       "      <td>We use a Vlasov-Fokker-Planck program and a li...</td>\n",
       "      <td>Microwave instability in the low energy ring o...</td>\n",
       "    </tr>\n",
       "    <tr>\n",
       "      <th>819396</th>\n",
       "      <td>10.1103/PhysRevB.81.054406</td>\n",
       "      <td>10.1103/PhysRevB.80.024113</td>\n",
       "      <td>Magnetically induced reorientation (MIR) of tw...</td>\n",
       "      <td>This is an in situ measurement of the full str...</td>\n",
       "    </tr>\n",
       "    <tr>\n",
       "      <th>819397</th>\n",
       "      <td>10.1103/PhysRevD.80.025019</td>\n",
       "      <td>10.1103/PhysRevD.80.025018</td>\n",
       "      <td>Classical isometrodynamics is quantized in the...</td>\n",
       "      <td>A generalization of non-Abelian gauge theories...</td>\n",
       "    </tr>\n",
       "    <tr>\n",
       "      <th>819398</th>\n",
       "      <td>10.1103/PhysRevSTAB.13.070402</td>\n",
       "      <td>10.1103/PhysRevSTAB.12.110401</td>\n",
       "      <td>The Blumlein pulse forming line (BPFL) consist...</td>\n",
       "      <td>The flat voltage of the main pulse on the load...</td>\n",
       "    </tr>\n",
       "    <tr>\n",
       "      <th>819399</th>\n",
       "      <td>10.1103/PhysRevD.82.025020</td>\n",
       "      <td>10.1103/PhysRevD.81.105017</td>\n",
       "      <td>It is recently claimed by Nekrasov and Shatash...</td>\n",
       "      <td>We study the relation between the N = 2 gauge ...</td>\n",
       "    </tr>\n",
       "  </tbody>\n",
       "</table>\n",
       "<p>819400 rows × 4 columns</p>\n",
       "</div>"
      ],
      "text/plain": [
       "                            CITING_DOI                      CITED_DOI  \\\n",
       "0       10.1103/PhysRevLett.101.194503       10.1103/PhysRevE.55.3143   \n",
       "1       10.1103/PhysRevLett.101.194503     10.1103/PhysRevE.65.041405   \n",
       "2             10.1103/PhysRevE.55.3143       10.1103/PhysRevA.46.7723   \n",
       "3           10.1103/PhysRevE.75.031201       10.1103/PhysRevE.55.3143   \n",
       "4           10.1103/PhysRevE.75.031201  10.1103/PhysRevLett.94.025901   \n",
       "...                                ...                            ...   \n",
       "819395   10.1103/PhysRevSTAB.13.104402  10.1103/PhysRevSTAB.12.061002   \n",
       "819396      10.1103/PhysRevB.81.054406     10.1103/PhysRevB.80.024113   \n",
       "819397      10.1103/PhysRevD.80.025019     10.1103/PhysRevD.80.025018   \n",
       "819398   10.1103/PhysRevSTAB.13.070402  10.1103/PhysRevSTAB.12.110401   \n",
       "819399      10.1103/PhysRevD.82.025020     10.1103/PhysRevD.81.105017   \n",
       "\n",
       "                                          CITING_ABSTRACT  \\\n",
       "0       We use the Onsager principle to derive a two-p...   \n",
       "1       We use the Onsager principle to derive a two-p...   \n",
       "2       Simple expressions are given for the Newtonian...   \n",
       "3       We present molecular dynamics calculations of ...   \n",
       "4       We present molecular dynamics calculations of ...   \n",
       "...                                                   ...   \n",
       "819395  We use a Vlasov-Fokker-Planck program and a li...   \n",
       "819396  Magnetically induced reorientation (MIR) of tw...   \n",
       "819397  Classical isometrodynamics is quantized in the...   \n",
       "819398  The Blumlein pulse forming line (BPFL) consist...   \n",
       "819399  It is recently claimed by Nekrasov and Shatash...   \n",
       "\n",
       "                                           CITED_ABSTRACT  \n",
       "0       Simple expressions are given for the Newtonian...  \n",
       "1       Measurements of the low-shear viscosity eta(o)...  \n",
       "2       We develop a phenomenological theory of the dy...  \n",
       "3       Simple expressions are given for the Newtonian...  \n",
       "4       Researchers have been perplexed for the past f...  \n",
       "...                                                   ...  \n",
       "819395  Microwave instability in the low energy ring o...  \n",
       "819396  This is an in situ measurement of the full str...  \n",
       "819397  A generalization of non-Abelian gauge theories...  \n",
       "819398  The flat voltage of the main pulse on the load...  \n",
       "819399  We study the relation between the N = 2 gauge ...  \n",
       "\n",
       "[819400 rows x 4 columns]"
      ]
     },
     "execution_count": 49,
     "metadata": {},
     "output_type": "execute_result"
    }
   ],
   "source": [
    "for_embed.merge(cit_abs[[\"CITING_DOI\",\"CITED_DOI\", \"CITING_ABSTRACT\", \"CITED_ABSTRACT\"]], on=[\"CITING_DOI\", \"CITED_DOI\"])"
   ]
  },
  {
   "cell_type": "code",
   "execution_count": 50,
   "metadata": {},
   "outputs": [],
   "source": [
    "for_embed = for_embed.merge(cit_abs[[\"CITING_DOI\",\"CITED_DOI\", \"CITING_ABSTRACT\", \"CITED_ABSTRACT\"]], on=[\"CITING_DOI\", \"CITED_DOI\"])"
   ]
  },
  {
   "cell_type": "code",
   "execution_count": 51,
   "metadata": {},
   "outputs": [
    {
     "data": {
      "text/html": [
       "<div>\n",
       "<style scoped>\n",
       "    .dataframe tbody tr th:only-of-type {\n",
       "        vertical-align: middle;\n",
       "    }\n",
       "\n",
       "    .dataframe tbody tr th {\n",
       "        vertical-align: top;\n",
       "    }\n",
       "\n",
       "    .dataframe thead th {\n",
       "        text-align: right;\n",
       "    }\n",
       "</style>\n",
       "<table border=\"1\" class=\"dataframe\">\n",
       "  <thead>\n",
       "    <tr style=\"text-align: right;\">\n",
       "      <th></th>\n",
       "      <th>CITING_DOI</th>\n",
       "      <th>CITED_DOI</th>\n",
       "      <th>CITING_ABSTRACT</th>\n",
       "      <th>CITED_ABSTRACT</th>\n",
       "    </tr>\n",
       "  </thead>\n",
       "  <tbody>\n",
       "    <tr>\n",
       "      <th>3507987</th>\n",
       "      <td>10.1103/PhysRevE.82.046707</td>\n",
       "      <td>10.1103/PhysRevB.80.024422</td>\n",
       "      <td>We discuss methods that allow us to increase t...</td>\n",
       "      <td>We have investigated the phase transition in t...</td>\n",
       "    </tr>\n",
       "    <tr>\n",
       "      <th>2106653</th>\n",
       "      <td>10.1103/PhysRevD.81.043001</td>\n",
       "      <td>10.1103/PhysRevLett.102.231301</td>\n",
       "      <td>We consider the diffeomorphism invariant gravi...</td>\n",
       "      <td>We study primordial gravitational waves produc...</td>\n",
       "    </tr>\n",
       "    <tr>\n",
       "      <th>4924224</th>\n",
       "      <td>10.1103/PhysRevB.81.241304</td>\n",
       "      <td>10.1103/PhysRevB.78.054107</td>\n",
       "      <td>PbSe quantum dots with sizes of 2.8(1), 3.7(1)...</td>\n",
       "      <td>Understanding the loss of ferroelectricity in ...</td>\n",
       "    </tr>\n",
       "    <tr>\n",
       "      <th>3363322</th>\n",
       "      <td>10.1103/PhysRevB.82.035446</td>\n",
       "      <td>10.1103/PhysRevB.76.085330</td>\n",
       "      <td>We theoretically investigate the time-dependen...</td>\n",
       "      <td>We investigate nonstationary electronic transp...</td>\n",
       "    </tr>\n",
       "    <tr>\n",
       "      <th>3073063</th>\n",
       "      <td>10.1103/PhysRevA.81.053823</td>\n",
       "      <td>10.1103/PhysRevLett.101.043901</td>\n",
       "      <td>There has been a surge of interest in the subw...</td>\n",
       "      <td>Here we explore the radiation features of opti...</td>\n",
       "    </tr>\n",
       "    <tr>\n",
       "      <th>...</th>\n",
       "      <td>...</td>\n",
       "      <td>...</td>\n",
       "      <td>...</td>\n",
       "      <td>...</td>\n",
       "    </tr>\n",
       "    <tr>\n",
       "      <th>681175</th>\n",
       "      <td>10.1103/PhysRevB.81.115131</td>\n",
       "      <td>10.1103/PhysRevE.81.036206</td>\n",
       "      <td>We use nonequilibrium dynamical mean-field the...</td>\n",
       "      <td>By means of full exact diagonalization, we stu...</td>\n",
       "    </tr>\n",
       "    <tr>\n",
       "      <th>1756055</th>\n",
       "      <td>10.1103/PhysRevB.81.060505</td>\n",
       "      <td>10.1103/PhysRevLett.102.147001</td>\n",
       "      <td>The London penetration depth, lambda, is direc...</td>\n",
       "      <td>In several iron-arsenide superconductors there...</td>\n",
       "    </tr>\n",
       "    <tr>\n",
       "      <th>4333531</th>\n",
       "      <td>10.1103/PhysRevD.81.054005</td>\n",
       "      <td>10.1103/PhysRevD.65.074021</td>\n",
       "      <td>We study the finite temperature behavior of li...</td>\n",
       "      <td>Chiral quark models with nonlocal covariant se...</td>\n",
       "    </tr>\n",
       "    <tr>\n",
       "      <th>556796</th>\n",
       "      <td>10.1103/PhysRevA.82.023424</td>\n",
       "      <td>10.1103/PhysRevLett.100.013903</td>\n",
       "      <td>The experimental finding of significant enhanc...</td>\n",
       "      <td>By analyzing accurate theoretical results from...</td>\n",
       "    </tr>\n",
       "    <tr>\n",
       "      <th>3847235</th>\n",
       "      <td>10.1103/PhysRevB.81.205413</td>\n",
       "      <td>10.1103/PhysRevB.59.7937</td>\n",
       "      <td>The effect of a Coulombic coupling on the dyna...</td>\n",
       "      <td>Using bosonization and path-integral methods, ...</td>\n",
       "    </tr>\n",
       "  </tbody>\n",
       "</table>\n",
       "<p>86129 rows × 4 columns</p>\n",
       "</div>"
      ],
      "text/plain": [
       "                         CITING_DOI                       CITED_DOI  \\\n",
       "3507987  10.1103/PhysRevE.82.046707      10.1103/PhysRevB.80.024422   \n",
       "2106653  10.1103/PhysRevD.81.043001  10.1103/PhysRevLett.102.231301   \n",
       "4924224  10.1103/PhysRevB.81.241304      10.1103/PhysRevB.78.054107   \n",
       "3363322  10.1103/PhysRevB.82.035446      10.1103/PhysRevB.76.085330   \n",
       "3073063  10.1103/PhysRevA.81.053823  10.1103/PhysRevLett.101.043901   \n",
       "...                             ...                             ...   \n",
       "681175   10.1103/PhysRevB.81.115131      10.1103/PhysRevE.81.036206   \n",
       "1756055  10.1103/PhysRevB.81.060505  10.1103/PhysRevLett.102.147001   \n",
       "4333531  10.1103/PhysRevD.81.054005      10.1103/PhysRevD.65.074021   \n",
       "556796   10.1103/PhysRevA.82.023424  10.1103/PhysRevLett.100.013903   \n",
       "3847235  10.1103/PhysRevB.81.205413        10.1103/PhysRevB.59.7937   \n",
       "\n",
       "                                           CITING_ABSTRACT  \\\n",
       "3507987  We discuss methods that allow us to increase t...   \n",
       "2106653  We consider the diffeomorphism invariant gravi...   \n",
       "4924224  PbSe quantum dots with sizes of 2.8(1), 3.7(1)...   \n",
       "3363322  We theoretically investigate the time-dependen...   \n",
       "3073063  There has been a surge of interest in the subw...   \n",
       "...                                                    ...   \n",
       "681175   We use nonequilibrium dynamical mean-field the...   \n",
       "1756055  The London penetration depth, lambda, is direc...   \n",
       "4333531  We study the finite temperature behavior of li...   \n",
       "556796   The experimental finding of significant enhanc...   \n",
       "3847235  The effect of a Coulombic coupling on the dyna...   \n",
       "\n",
       "                                            CITED_ABSTRACT  \n",
       "3507987  We have investigated the phase transition in t...  \n",
       "2106653  We study primordial gravitational waves produc...  \n",
       "4924224  Understanding the loss of ferroelectricity in ...  \n",
       "3363322  We investigate nonstationary electronic transp...  \n",
       "3073063  Here we explore the radiation features of opti...  \n",
       "...                                                    ...  \n",
       "681175   By means of full exact diagonalization, we stu...  \n",
       "1756055  In several iron-arsenide superconductors there...  \n",
       "4333531  Chiral quark models with nonlocal covariant se...  \n",
       "556796   By analyzing accurate theoretical results from...  \n",
       "3847235  Using bosonization and path-integral methods, ...  \n",
       "\n",
       "[86129 rows x 4 columns]"
      ]
     },
     "execution_count": 51,
     "metadata": {},
     "output_type": "execute_result"
    }
   ],
   "source": [
    "to_remove"
   ]
  },
  {
   "cell_type": "code",
   "execution_count": 53,
   "metadata": {},
   "outputs": [
    {
     "data": {
      "text/html": [
       "<div>\n",
       "<style scoped>\n",
       "    .dataframe tbody tr th:only-of-type {\n",
       "        vertical-align: middle;\n",
       "    }\n",
       "\n",
       "    .dataframe tbody tr th {\n",
       "        vertical-align: top;\n",
       "    }\n",
       "\n",
       "    .dataframe thead th {\n",
       "        text-align: right;\n",
       "    }\n",
       "</style>\n",
       "<table border=\"1\" class=\"dataframe\">\n",
       "  <thead>\n",
       "    <tr style=\"text-align: right;\">\n",
       "      <th></th>\n",
       "      <th>CITING_DOI</th>\n",
       "      <th>CITED_DOI</th>\n",
       "      <th>CITING_ABSTRACT</th>\n",
       "      <th>CITED_ABSTRACT</th>\n",
       "    </tr>\n",
       "  </thead>\n",
       "  <tbody>\n",
       "    <tr>\n",
       "      <th>0</th>\n",
       "      <td>10.1103/PhysRevLett.101.194503</td>\n",
       "      <td>10.1103/PhysRevE.55.3143</td>\n",
       "      <td>We use the Onsager principle to derive a two-p...</td>\n",
       "      <td>Simple expressions are given for the Newtonian...</td>\n",
       "    </tr>\n",
       "    <tr>\n",
       "      <th>1</th>\n",
       "      <td>10.1103/PhysRevLett.101.194503</td>\n",
       "      <td>10.1103/PhysRevE.65.041405</td>\n",
       "      <td>We use the Onsager principle to derive a two-p...</td>\n",
       "      <td>Measurements of the low-shear viscosity eta(o)...</td>\n",
       "    </tr>\n",
       "    <tr>\n",
       "      <th>2</th>\n",
       "      <td>10.1103/PhysRevE.55.3143</td>\n",
       "      <td>10.1103/PhysRevA.46.7723</td>\n",
       "      <td>Simple expressions are given for the Newtonian...</td>\n",
       "      <td>We develop a phenomenological theory of the dy...</td>\n",
       "    </tr>\n",
       "    <tr>\n",
       "      <th>3</th>\n",
       "      <td>10.1103/PhysRevE.75.031201</td>\n",
       "      <td>10.1103/PhysRevE.55.3143</td>\n",
       "      <td>We present molecular dynamics calculations of ...</td>\n",
       "      <td>Simple expressions are given for the Newtonian...</td>\n",
       "    </tr>\n",
       "    <tr>\n",
       "      <th>4</th>\n",
       "      <td>10.1103/PhysRevE.75.031201</td>\n",
       "      <td>10.1103/PhysRevLett.94.025901</td>\n",
       "      <td>We present molecular dynamics calculations of ...</td>\n",
       "      <td>Researchers have been perplexed for the past f...</td>\n",
       "    </tr>\n",
       "    <tr>\n",
       "      <th>...</th>\n",
       "      <td>...</td>\n",
       "      <td>...</td>\n",
       "      <td>...</td>\n",
       "      <td>...</td>\n",
       "    </tr>\n",
       "    <tr>\n",
       "      <th>681175</th>\n",
       "      <td>10.1103/PhysRevB.81.115131</td>\n",
       "      <td>10.1103/PhysRevE.81.036206</td>\n",
       "      <td>We use nonequilibrium dynamical mean-field the...</td>\n",
       "      <td>By means of full exact diagonalization, we stu...</td>\n",
       "    </tr>\n",
       "    <tr>\n",
       "      <th>1756055</th>\n",
       "      <td>10.1103/PhysRevB.81.060505</td>\n",
       "      <td>10.1103/PhysRevLett.102.147001</td>\n",
       "      <td>The London penetration depth, lambda, is direc...</td>\n",
       "      <td>In several iron-arsenide superconductors there...</td>\n",
       "    </tr>\n",
       "    <tr>\n",
       "      <th>4333531</th>\n",
       "      <td>10.1103/PhysRevD.81.054005</td>\n",
       "      <td>10.1103/PhysRevD.65.074021</td>\n",
       "      <td>We study the finite temperature behavior of li...</td>\n",
       "      <td>Chiral quark models with nonlocal covariant se...</td>\n",
       "    </tr>\n",
       "    <tr>\n",
       "      <th>556796</th>\n",
       "      <td>10.1103/PhysRevA.82.023424</td>\n",
       "      <td>10.1103/PhysRevLett.100.013903</td>\n",
       "      <td>The experimental finding of significant enhanc...</td>\n",
       "      <td>By analyzing accurate theoretical results from...</td>\n",
       "    </tr>\n",
       "    <tr>\n",
       "      <th>3847235</th>\n",
       "      <td>10.1103/PhysRevB.81.205413</td>\n",
       "      <td>10.1103/PhysRevB.59.7937</td>\n",
       "      <td>The effect of a Coulombic coupling on the dyna...</td>\n",
       "      <td>Using bosonization and path-integral methods, ...</td>\n",
       "    </tr>\n",
       "  </tbody>\n",
       "</table>\n",
       "<p>905529 rows × 4 columns</p>\n",
       "</div>"
      ],
      "text/plain": [
       "                             CITING_DOI                       CITED_DOI  \\\n",
       "0        10.1103/PhysRevLett.101.194503        10.1103/PhysRevE.55.3143   \n",
       "1        10.1103/PhysRevLett.101.194503      10.1103/PhysRevE.65.041405   \n",
       "2              10.1103/PhysRevE.55.3143        10.1103/PhysRevA.46.7723   \n",
       "3            10.1103/PhysRevE.75.031201        10.1103/PhysRevE.55.3143   \n",
       "4            10.1103/PhysRevE.75.031201   10.1103/PhysRevLett.94.025901   \n",
       "...                                 ...                             ...   \n",
       "681175       10.1103/PhysRevB.81.115131      10.1103/PhysRevE.81.036206   \n",
       "1756055      10.1103/PhysRevB.81.060505  10.1103/PhysRevLett.102.147001   \n",
       "4333531      10.1103/PhysRevD.81.054005      10.1103/PhysRevD.65.074021   \n",
       "556796       10.1103/PhysRevA.82.023424  10.1103/PhysRevLett.100.013903   \n",
       "3847235      10.1103/PhysRevB.81.205413        10.1103/PhysRevB.59.7937   \n",
       "\n",
       "                                           CITING_ABSTRACT  \\\n",
       "0        We use the Onsager principle to derive a two-p...   \n",
       "1        We use the Onsager principle to derive a two-p...   \n",
       "2        Simple expressions are given for the Newtonian...   \n",
       "3        We present molecular dynamics calculations of ...   \n",
       "4        We present molecular dynamics calculations of ...   \n",
       "...                                                    ...   \n",
       "681175   We use nonequilibrium dynamical mean-field the...   \n",
       "1756055  The London penetration depth, lambda, is direc...   \n",
       "4333531  We study the finite temperature behavior of li...   \n",
       "556796   The experimental finding of significant enhanc...   \n",
       "3847235  The effect of a Coulombic coupling on the dyna...   \n",
       "\n",
       "                                            CITED_ABSTRACT  \n",
       "0        Simple expressions are given for the Newtonian...  \n",
       "1        Measurements of the low-shear viscosity eta(o)...  \n",
       "2        We develop a phenomenological theory of the dy...  \n",
       "3        Simple expressions are given for the Newtonian...  \n",
       "4        Researchers have been perplexed for the past f...  \n",
       "...                                                    ...  \n",
       "681175   By means of full exact diagonalization, we stu...  \n",
       "1756055  In several iron-arsenide superconductors there...  \n",
       "4333531  Chiral quark models with nonlocal covariant se...  \n",
       "556796   By analyzing accurate theoretical results from...  \n",
       "3847235  Using bosonization and path-integral methods, ...  \n",
       "\n",
       "[905529 rows x 4 columns]"
      ]
     },
     "execution_count": 53,
     "metadata": {},
     "output_type": "execute_result"
    }
   ],
   "source": [
    "for_embed.append(to_remove)"
   ]
  },
  {
   "cell_type": "code",
   "execution_count": 54,
   "metadata": {},
   "outputs": [
    {
     "data": {
      "text/plain": [
       "905529"
      ]
     },
     "execution_count": 54,
     "metadata": {},
     "output_type": "execute_result"
    }
   ],
   "source": [
    "len(for_embed.append(to_remove).drop_duplicates())"
   ]
  },
  {
   "cell_type": "markdown",
   "metadata": {},
   "source": [
    "# Save"
   ]
  },
  {
   "cell_type": "code",
   "execution_count": 55,
   "metadata": {},
   "outputs": [],
   "source": [
    "NETWORK_PATH = j(DATA_DIRS[0], \"derived\", \"journal_citations\", \"link_prediction\", \"abstract_aps_all_2010_link_pred_{}-pct_neg-0.gz\".format(int(REMOVE_EDGE_PCT*100)))\n",
    "REMOVE_PATH = j(DATA_DIRS[0], \"derived\", \"journal_citations\", \"link_prediction\", \"abstract_aps_all_2010_link_pred_{}-pct_neg-0_pos.csv\".format(int(REMOVE_EDGE_PCT*100)))"
   ]
  },
  {
   "cell_type": "code",
   "execution_count": 56,
   "metadata": {},
   "outputs": [],
   "source": [
    "for_embed = for_embed.astype(str)\n",
    "to_remove = to_remove.astype(str)"
   ]
  },
  {
   "cell_type": "code",
   "execution_count": 57,
   "metadata": {},
   "outputs": [],
   "source": [
    "for_embed.to_csv(NETWORK_PATH, header=True, index=False)"
   ]
  },
  {
   "cell_type": "code",
   "execution_count": 58,
   "metadata": {},
   "outputs": [],
   "source": [
    "to_remove.to_csv(REMOVE_PATH, header=True, index=False)"
   ]
  },
  {
   "cell_type": "code",
   "execution_count": 59,
   "metadata": {},
   "outputs": [
    {
     "data": {
      "text/plain": [
       "86129"
      ]
     },
     "execution_count": 59,
     "metadata": {},
     "output_type": "execute_result"
    }
   ],
   "source": [
    "len(to_remove)"
   ]
  },
  {
   "cell_type": "code",
   "execution_count": null,
   "metadata": {},
   "outputs": [],
   "source": []
  }
 ],
 "metadata": {
  "kernelspec": {
   "display_name": "Python [conda env:embed-sci-disc]",
   "language": "python",
   "name": "conda-env-embed-sci-disc-py"
  },
  "language_info": {
   "codemirror_mode": {
    "name": "ipython",
    "version": 3
   },
   "file_extension": ".py",
   "mimetype": "text/x-python",
   "name": "python",
   "nbconvert_exporter": "python",
   "pygments_lexer": "ipython3",
   "version": "3.7.3"
  }
 },
 "nbformat": 4,
 "nbformat_minor": 4
}
